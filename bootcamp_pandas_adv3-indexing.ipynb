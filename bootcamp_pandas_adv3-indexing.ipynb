{
 "cells": [
  {
   "cell_type": "markdown",
   "metadata": {},
   "source": [
    "# Advanced Pandas:  Multi-axis indexing (`loc` and `iloc` methods)\n",
    "\n",
    "\n",
    "\n",
    "In this notebook we are discussing the `loc`, `iloc` and `ix` methods, which are relatively newly implemented in `pandas` but have become the primary means of multi-axis indexing. The official `pandas` docs is [here](http://pandas.pydata.org/pandas-docs/stable/indexing.html#different-choices-for-indexing). \n",
    "\n",
    "Imagine the following standard situation: we have a dataset where\n",
    "\n",
    "- Each row represents an observation\n",
    "- Each column is a named variable.\n",
    "- and we **want:** an easy, quick way to select relevant rows/columns (i.e. subsamples from dataset)\n",
    "\n",
    "This notebook borrows examples from [this blog post](http://www.shanelynn.ie/select-pandas-dataframe-rows-and-columns-using-iloc-loc-and-ix/).\n",
    "\n",
    "**Note: requires internet access to run.**  \n",
    "\n",
    "<!-- \n",
    "internal links http://sebastianraschka.com/Articles/2014_ipython_internal_links.html\n",
    "-->\n",
    "\n",
    "This Jupyter notebook was created by Balint Szoke for the NYU Stern course [Data Bootcamp](http://nyu.data-bootcamp.com/).  "
   ]
  },
  {
   "cell_type": "code",
   "execution_count": 1,
   "metadata": {
    "collapsed": true
   },
   "outputs": [],
   "source": [
    "%matplotlib inline \n",
    "\n",
    "import numpy as np                     # foundation for Pandas   \n",
    "import pandas as pd                    # data package\n",
    "import matplotlib.pyplot as plt        # graphics module  "
   ]
  },
  {
   "cell_type": "markdown",
   "metadata": {},
   "source": [
    "To illustrate the main ideas, we are going to use a fake data set from [this website](https://www.briandunning.com/sample-data/). This file contains **artificial** names, addresses, companies, phone numbers etc. for fictitious US characters. Here is the complete list of variables\n",
    "\n",
    "The main purpose of this dataset is testing. Straight from the website\n",
    "\n",
    "> \"Always test your software with a \"worst-case scenario\" amount of sample data, to get an accurate sense of its performance in the real world.\"\n",
    "\n",
    "The only issue is that the samples are stored in **zipped** csv files, i.e. we do not have url for the csv file directly."
   ]
  },
  {
   "cell_type": "markdown",
   "metadata": {},
   "source": [
    "### How to download a zipfile and read the csv file inside"
   ]
  },
  {
   "cell_type": "code",
   "execution_count": null,
   "metadata": {
    "collapsed": false
   },
   "outputs": [],
   "source": [
    "# we need some extra tools to download and handle zip files \n",
    "import zipfile as zf    \n",
    "import requests, io\n",
    "\n",
    "url = \"https://www.briandunning.com/sample-data/us-500.zip\"\n",
    "r = requests.get(url) \n",
    "file = zf.ZipFile(io.BytesIO(r.content)) \n",
    "file"
   ]
  },
  {
   "cell_type": "code",
   "execution_count": null,
   "metadata": {
    "collapsed": false
   },
   "outputs": [],
   "source": [
    "file.namelist()    # there is one csv file inside"
   ]
  },
  {
   "cell_type": "code",
   "execution_count": null,
   "metadata": {
    "collapsed": false
   },
   "outputs": [],
   "source": [
    "file_csv = file.open(file.namelist()[0])          # compare the type with file above (this is readable by pandas)\n",
    "file_csv"
   ]
  },
  {
   "cell_type": "code",
   "execution_count": null,
   "metadata": {
    "collapsed": false
   },
   "outputs": [],
   "source": [
    "df = pd.read_csv(file_csv)\n",
    "# What do we have?\n",
    "print(\"Variables and types:\\n\\n\", df.dtypes, sep='')"
   ]
  },
  {
   "cell_type": "code",
   "execution_count": null,
   "metadata": {
    "collapsed": false
   },
   "outputs": [],
   "source": [
    "df.head()"
   ]
  },
  {
   "cell_type": "code",
   "execution_count": null,
   "metadata": {
    "collapsed": false
   },
   "outputs": [],
   "source": [
    "# Sometimes this one-liner works too\n",
    "#pd.read_csv(url, compression='zip')    # not in this case"
   ]
  },
  {
   "cell_type": "markdown",
   "metadata": {},
   "source": [
    "## (1) Selecting data using [`loc`](http://pandas.pydata.org/pandas-docs/version/0.17.0/generated/pandas.DataFrame.loc.html)\n",
    "\n",
    "`loc` is primarily label-location based indexer. That is, \n",
    "\n",
    "* it selects rows and columns by their **labels** (variable names for columns, index values for rows). \n",
    "* also works with a boolean array.\n",
    "\n",
    "The syntax is \n",
    "\n",
    "```python\n",
    "data.loc[<row selection>, <column selection>]\n",
    "```\n",
    "\n",
    "First, set an arbitrary index variable"
   ]
  },
  {
   "cell_type": "code",
   "execution_count": null,
   "metadata": {
    "collapsed": false
   },
   "outputs": [],
   "source": [
    "dff = df.set_index(['last_name'])\n",
    "dff.head()"
   ]
  },
  {
   "cell_type": "markdown",
   "metadata": {},
   "source": [
    "Now we can directly select rows by their index (`last_name`) values (just like we do with columns)"
   ]
  },
  {
   "cell_type": "code",
   "execution_count": null,
   "metadata": {
    "collapsed": false
   },
   "outputs": [],
   "source": [
    "dff.loc['Butt']"
   ]
  },
  {
   "cell_type": "code",
   "execution_count": null,
   "metadata": {
    "collapsed": false
   },
   "outputs": [],
   "source": [
    "# multiple rows\n",
    "dff.loc[['Butt', 'Venere']]"
   ]
  },
  {
   "cell_type": "code",
   "execution_count": null,
   "metadata": {
    "collapsed": false
   },
   "outputs": [],
   "source": [
    "# select a subset of the data (subDataFrame)\n",
    "dff.loc[['Butt', 'Foller'], ['city', 'email']]"
   ]
  },
  {
   "cell_type": "code",
   "execution_count": null,
   "metadata": {
    "collapsed": false
   },
   "outputs": [],
   "source": [
    "# ranges of index labels\n",
    "dff.loc[['Butt', 'Foller'], 'address':'phone2']\n"
   ]
  },
  {
   "cell_type": "markdown",
   "metadata": {},
   "source": [
    "#### Boolean indexing using `loc`\n",
    "\n",
    "The most common method to work with data\n",
    "\n",
    "Pass an array of `True`/`False` values to the `.loc` to select the rows/columns with `True` values."
   ]
  },
  {
   "cell_type": "code",
   "execution_count": null,
   "metadata": {
    "collapsed": false
   },
   "outputs": [],
   "source": [
    "dff.loc[dff['city'] == 'New Orleans']"
   ]
  },
  {
   "cell_type": "markdown",
   "metadata": {},
   "source": [
    "In fact, we don't need the `loc` indexer for this kind of task"
   ]
  },
  {
   "cell_type": "code",
   "execution_count": null,
   "metadata": {
    "collapsed": false
   },
   "outputs": [],
   "source": [
    "dff[dff['city'] == 'New Orleans']"
   ]
  },
  {
   "cell_type": "markdown",
   "metadata": {},
   "source": [
    "But what if we don't want all variables?"
   ]
  },
  {
   "cell_type": "code",
   "execution_count": null,
   "metadata": {
    "collapsed": false
   },
   "outputs": [],
   "source": [
    "dff.loc[dff['city'] == 'New Orleans', ['company_name', 'zip']]"
   ]
  },
  {
   "cell_type": "markdown",
   "metadata": {},
   "source": [
    "How would you get the same dataframe without `loc`?"
   ]
  },
  {
   "cell_type": "code",
   "execution_count": null,
   "metadata": {
    "collapsed": false
   },
   "outputs": [],
   "source": [
    "dff[dff['city'] == 'New Orleans'][['company_name', 'zip']]         # matter of taste"
   ]
  },
  {
   "cell_type": "markdown",
   "metadata": {},
   "source": [
    "Recall the **string methods** applicable to `DataFrame`s"
   ]
  },
  {
   "cell_type": "code",
   "execution_count": null,
   "metadata": {
    "collapsed": false
   },
   "outputs": [],
   "source": [
    "dff[dff['email'].str.endswith(\"gmail.com\")].head()"
   ]
  },
  {
   "cell_type": "markdown",
   "metadata": {},
   "source": [
    "and the `isin` method?"
   ]
  },
  {
   "cell_type": "code",
   "execution_count": null,
   "metadata": {
    "collapsed": false
   },
   "outputs": [],
   "source": [
    "dff.loc[dff['city'].isin(['New Orleans', 'New York'])]   "
   ]
  },
  {
   "cell_type": "code",
   "execution_count": null,
   "metadata": {
    "collapsed": false
   },
   "outputs": [],
   "source": [
    "# intersection fo the two?\n",
    "\n",
    "gmails = dff['email'].str.endswith(\"gmail.com\")\n",
    "NYNO = (dff['city'] == 'New Orleans') | (dff['city'] =='New York')\n",
    "dff[gmails & NYNO]"
   ]
  },
  {
   "cell_type": "markdown",
   "metadata": {},
   "source": [
    "A **tricky one**: we can pass a function that returns True/False values to `.apply()` and evaluate it at each row"
   ]
  },
  {
   "cell_type": "code",
   "execution_count": null,
   "metadata": {
    "collapsed": false
   },
   "outputs": [],
   "source": [
    "def short_company_name(x):\n",
    "    \"\"\"\n",
    "    returns True if x contains less than 2 words\n",
    "    \"\"\"\n",
    "    return len(x.split(' ')) < 2\n",
    "\n",
    "dff.loc[dff['company_name'].apply(short_company_name)] "
   ]
  },
  {
   "cell_type": "markdown",
   "metadata": {},
   "source": [
    "## (2) Selecting data using [`iloc`](http://pandas.pydata.org/pandas-docs/version/0.17.0/generated/pandas.DataFrame.iloc.html)\n",
    "\n",
    "`iloc` is primarily used for integer position based indexing. That is, it selects rows and columns by number, in the order that they appear in the data frame. Numbers are from $0$ to `df.shape-1` of both axes. \n",
    "\n",
    "The syntax is \n",
    "\n",
    "```python\n",
    "data.iloc[<row selection>, <column selection>]\n",
    "```"
   ]
  },
  {
   "cell_type": "code",
   "execution_count": null,
   "metadata": {
    "collapsed": false
   },
   "outputs": [],
   "source": [
    "# Rows:\n",
    "df.iloc[0]             # first row "
   ]
  },
  {
   "cell_type": "code",
   "execution_count": null,
   "metadata": {
    "collapsed": false
   },
   "outputs": [],
   "source": [
    "df.iloc[-1]            # last row"
   ]
  },
  {
   "cell_type": "code",
   "execution_count": null,
   "metadata": {
    "collapsed": false
   },
   "outputs": [],
   "source": [
    "# Columns:\n",
    "df.iloc[:, 0]          # first column = first variable (first_name)"
   ]
  },
  {
   "cell_type": "code",
   "execution_count": null,
   "metadata": {
    "collapsed": false
   },
   "outputs": [],
   "source": [
    "df.iloc[:, -1]         # last column (web)"
   ]
  },
  {
   "cell_type": "markdown",
   "metadata": {},
   "source": [
    "For multiple columns and rows, use slicer"
   ]
  },
  {
   "cell_type": "code",
   "execution_count": null,
   "metadata": {
    "collapsed": false
   },
   "outputs": [],
   "source": [
    "df.iloc[:5]                        # first five rows"
   ]
  },
  {
   "cell_type": "code",
   "execution_count": null,
   "metadata": {
    "collapsed": false
   },
   "outputs": [],
   "source": [
    "df.iloc[:, :2]                      # first two columns"
   ]
  },
  {
   "cell_type": "code",
   "execution_count": null,
   "metadata": {
    "collapsed": false
   },
   "outputs": [],
   "source": [
    "df.iloc[[0, 4, 7, 25],                  # 1st, 5th, 6th, 26th row\n",
    "        [0, 5, 6]]                      # 1st 6th 7th columns."
   ]
  },
  {
   "cell_type": "code",
   "execution_count": null,
   "metadata": {
    "collapsed": false
   },
   "outputs": [],
   "source": [
    "df.iloc[:5, 5:8]                          # first 5 rows and 5th, 6th, 7th colum"
   ]
  },
  {
   "cell_type": "markdown",
   "metadata": {},
   "source": [
    "## (3) Selecting data using [`ix`](http://pandas.pydata.org/pandas-docs/version/0.17.0/generated/pandas.DataFrame.ix.html)\n",
    "\n",
    "`ix` is hybrid of `loc` and `iloc`. In general, \n",
    "1. it is label-location based and acts just like `loc`\n",
    "2. However, it also supports integer-location based selection just like `iloc` where passed an integer\n",
    "\n",
    "Second option only works where the index of the DataFrame is **NOT** an integer.\n",
    "\n",
    "The syntax is \n",
    "\n",
    "```python\n",
    "data.ix[<row selection>, <column selection>]\n",
    "```\n",
    "\n",
    "Explicit usage of `loc` and `iloc` is preferred"
   ]
  },
  {
   "cell_type": "code",
   "execution_count": null,
   "metadata": {
    "collapsed": false
   },
   "outputs": [],
   "source": [
    "# ix indexing works just the same as loc when passed labels\n",
    "dff.ix['Butt', 'city'] == dff.loc['Butt', 'city']"
   ]
  },
  {
   "cell_type": "code",
   "execution_count": null,
   "metadata": {
    "collapsed": false
   },
   "outputs": [],
   "source": [
    "# ix indexing works the same as iloc when passed integers.\n",
    "dff.ix[33, 7] == dff.iloc[33, 7]"
   ]
  },
  {
   "cell_type": "markdown",
   "metadata": {},
   "source": [
    "# Hierarchical indexing with `loc` and `iloc`"
   ]
  },
  {
   "cell_type": "markdown",
   "metadata": {},
   "source": [
    "Multi-level indexing allows us to work with higher dimensional data while storing info in lower dimensional data structures like 2D `DataFrame` or 1D `Series`. More on this [here](http://pandas.pydata.org/pandas-docs/stable/advanced.html#advanced-advanced-hierarchical).\n",
    "\n",
    "Read the WEO dataset that we have already used a couple of times"
   ]
  },
  {
   "cell_type": "code",
   "execution_count": 3,
   "metadata": {
    "collapsed": false
   },
   "outputs": [
    {
     "name": "stderr",
     "output_type": "stream",
     "text": [
      "/home/daniel/anaconda3/lib/python3.5/site-packages/ipykernel/__main__.py:22: SettingWithCopyWarning: \n",
      "A value is trying to be set on a copy of a slice from a DataFrame.\n",
      "Try using .loc[row_indexer,col_indexer] = value instead\n",
      "\n",
      "See the caveats in the documentation: http://pandas.pydata.org/pandas-docs/stable/indexing.html#indexing-view-versus-copy\n"
     ]
    }
   ],
   "source": [
    "url_weo = 'http://www.imf.org/external/pubs/ft/weo/2016/02/weodata/WEOOct2016all.xls'\n",
    "\n",
    "# (1) define the column indices \n",
    "col_indices = [1, 2, 3] + list(range(9, 46))\n",
    "\n",
    "# (2) download the dataset\n",
    "weo = pd.read_csv(url_weo, \n",
    "                  sep = '\\t',\n",
    "                  usecols=col_indices,\n",
    "                  skipfooter=1, engine='python',\n",
    "                  na_values=['n/a', '--'],\n",
    "                  thousands =',')\n",
    "\n",
    "# (3) change column labels to something more intuitive \n",
    "weo = weo.rename(columns={'WEO Subject Code': 'Variable', \n",
    "                          'Subject Descriptor': 'Description'})\n",
    "\n",
    "# (4) create debt and deficits dataframe \n",
    "variables = ['GGXWDG_NGDP', 'GGXCNL_NGDP']\n",
    "data = weo[weo['Variable'].isin(variables)]\n",
    "\n",
    "data['Variable'] = data['Variable'].replace(to_replace=['GGXWDG_NGDP', 'GGXCNL_NGDP'], value=['Debt', 'Surplus'])"
   ]
  },
  {
   "cell_type": "code",
   "execution_count": 4,
   "metadata": {
    "collapsed": false
   },
   "outputs": [
    {
     "data": {
      "text/html": [
       "<div>\n",
       "<table border=\"1\" class=\"dataframe\">\n",
       "  <thead>\n",
       "    <tr style=\"text-align: right;\">\n",
       "      <th></th>\n",
       "      <th></th>\n",
       "      <th>Country</th>\n",
       "      <th>1980</th>\n",
       "      <th>1981</th>\n",
       "      <th>1982</th>\n",
       "      <th>1983</th>\n",
       "      <th>1984</th>\n",
       "      <th>1985</th>\n",
       "      <th>1986</th>\n",
       "      <th>1987</th>\n",
       "      <th>1988</th>\n",
       "      <th>...</th>\n",
       "      <th>2007</th>\n",
       "      <th>2008</th>\n",
       "      <th>2009</th>\n",
       "      <th>2010</th>\n",
       "      <th>2011</th>\n",
       "      <th>2012</th>\n",
       "      <th>2013</th>\n",
       "      <th>2014</th>\n",
       "      <th>2015</th>\n",
       "      <th>2016</th>\n",
       "    </tr>\n",
       "    <tr>\n",
       "      <th>ISO</th>\n",
       "      <th>Variable</th>\n",
       "      <th></th>\n",
       "      <th></th>\n",
       "      <th></th>\n",
       "      <th></th>\n",
       "      <th></th>\n",
       "      <th></th>\n",
       "      <th></th>\n",
       "      <th></th>\n",
       "      <th></th>\n",
       "      <th></th>\n",
       "      <th></th>\n",
       "      <th></th>\n",
       "      <th></th>\n",
       "      <th></th>\n",
       "      <th></th>\n",
       "      <th></th>\n",
       "      <th></th>\n",
       "      <th></th>\n",
       "      <th></th>\n",
       "      <th></th>\n",
       "      <th></th>\n",
       "    </tr>\n",
       "  </thead>\n",
       "  <tbody>\n",
       "    <tr>\n",
       "      <th rowspan=\"2\" valign=\"top\">AFG</th>\n",
       "      <th>Surplus</th>\n",
       "      <td>Afghanistan</td>\n",
       "      <td>NaN</td>\n",
       "      <td>NaN</td>\n",
       "      <td>NaN</td>\n",
       "      <td>NaN</td>\n",
       "      <td>NaN</td>\n",
       "      <td>NaN</td>\n",
       "      <td>NaN</td>\n",
       "      <td>NaN</td>\n",
       "      <td>NaN</td>\n",
       "      <td>...</td>\n",
       "      <td>-2.492</td>\n",
       "      <td>-3.882</td>\n",
       "      <td>-1.779</td>\n",
       "      <td>0.922</td>\n",
       "      <td>-0.672</td>\n",
       "      <td>0.182</td>\n",
       "      <td>-0.631</td>\n",
       "      <td>-1.741</td>\n",
       "      <td>-1.404</td>\n",
       "      <td>0.142</td>\n",
       "    </tr>\n",
       "    <tr>\n",
       "      <th>Debt</th>\n",
       "      <td>Afghanistan</td>\n",
       "      <td>NaN</td>\n",
       "      <td>NaN</td>\n",
       "      <td>NaN</td>\n",
       "      <td>NaN</td>\n",
       "      <td>NaN</td>\n",
       "      <td>NaN</td>\n",
       "      <td>NaN</td>\n",
       "      <td>NaN</td>\n",
       "      <td>NaN</td>\n",
       "      <td>...</td>\n",
       "      <td>20.240</td>\n",
       "      <td>18.370</td>\n",
       "      <td>16.776</td>\n",
       "      <td>7.902</td>\n",
       "      <td>7.137</td>\n",
       "      <td>6.625</td>\n",
       "      <td>6.749</td>\n",
       "      <td>6.380</td>\n",
       "      <td>6.246</td>\n",
       "      <td>6.751</td>\n",
       "    </tr>\n",
       "    <tr>\n",
       "      <th rowspan=\"2\" valign=\"top\">ALB</th>\n",
       "      <th>Surplus</th>\n",
       "      <td>Albania</td>\n",
       "      <td>NaN</td>\n",
       "      <td>NaN</td>\n",
       "      <td>NaN</td>\n",
       "      <td>NaN</td>\n",
       "      <td>NaN</td>\n",
       "      <td>NaN</td>\n",
       "      <td>NaN</td>\n",
       "      <td>NaN</td>\n",
       "      <td>NaN</td>\n",
       "      <td>...</td>\n",
       "      <td>-3.179</td>\n",
       "      <td>-4.884</td>\n",
       "      <td>-6.586</td>\n",
       "      <td>-3.520</td>\n",
       "      <td>-3.516</td>\n",
       "      <td>-3.441</td>\n",
       "      <td>-5.215</td>\n",
       "      <td>-5.461</td>\n",
       "      <td>-4.050</td>\n",
       "      <td>-2.463</td>\n",
       "    </tr>\n",
       "    <tr>\n",
       "      <th>Debt</th>\n",
       "      <td>Albania</td>\n",
       "      <td>NaN</td>\n",
       "      <td>NaN</td>\n",
       "      <td>NaN</td>\n",
       "      <td>NaN</td>\n",
       "      <td>NaN</td>\n",
       "      <td>NaN</td>\n",
       "      <td>NaN</td>\n",
       "      <td>NaN</td>\n",
       "      <td>NaN</td>\n",
       "      <td>...</td>\n",
       "      <td>53.550</td>\n",
       "      <td>55.140</td>\n",
       "      <td>59.666</td>\n",
       "      <td>57.720</td>\n",
       "      <td>59.413</td>\n",
       "      <td>62.144</td>\n",
       "      <td>70.391</td>\n",
       "      <td>72.038</td>\n",
       "      <td>73.321</td>\n",
       "      <td>72.184</td>\n",
       "    </tr>\n",
       "    <tr>\n",
       "      <th>DZA</th>\n",
       "      <th>Surplus</th>\n",
       "      <td>Algeria</td>\n",
       "      <td>NaN</td>\n",
       "      <td>NaN</td>\n",
       "      <td>NaN</td>\n",
       "      <td>NaN</td>\n",
       "      <td>NaN</td>\n",
       "      <td>NaN</td>\n",
       "      <td>NaN</td>\n",
       "      <td>NaN</td>\n",
       "      <td>NaN</td>\n",
       "      <td>...</td>\n",
       "      <td>6.133</td>\n",
       "      <td>9.055</td>\n",
       "      <td>-5.466</td>\n",
       "      <td>-0.388</td>\n",
       "      <td>-0.436</td>\n",
       "      <td>-4.435</td>\n",
       "      <td>-0.400</td>\n",
       "      <td>-7.310</td>\n",
       "      <td>-16.154</td>\n",
       "      <td>-12.930</td>\n",
       "    </tr>\n",
       "  </tbody>\n",
       "</table>\n",
       "<p>5 rows × 38 columns</p>\n",
       "</div>"
      ],
      "text/plain": [
       "                  Country  1980  1981  1982  1983  1984  1985  1986  1987  \\\n",
       "ISO Variable                                                                \n",
       "AFG Surplus   Afghanistan   NaN   NaN   NaN   NaN   NaN   NaN   NaN   NaN   \n",
       "    Debt      Afghanistan   NaN   NaN   NaN   NaN   NaN   NaN   NaN   NaN   \n",
       "ALB Surplus       Albania   NaN   NaN   NaN   NaN   NaN   NaN   NaN   NaN   \n",
       "    Debt          Albania   NaN   NaN   NaN   NaN   NaN   NaN   NaN   NaN   \n",
       "DZA Surplus       Algeria   NaN   NaN   NaN   NaN   NaN   NaN   NaN   NaN   \n",
       "\n",
       "              1988   ...      2007    2008    2009    2010    2011    2012  \\\n",
       "ISO Variable         ...                                                     \n",
       "AFG Surplus    NaN   ...    -2.492  -3.882  -1.779   0.922  -0.672   0.182   \n",
       "    Debt       NaN   ...    20.240  18.370  16.776   7.902   7.137   6.625   \n",
       "ALB Surplus    NaN   ...    -3.179  -4.884  -6.586  -3.520  -3.516  -3.441   \n",
       "    Debt       NaN   ...    53.550  55.140  59.666  57.720  59.413  62.144   \n",
       "DZA Surplus    NaN   ...     6.133   9.055  -5.466  -0.388  -0.436  -4.435   \n",
       "\n",
       "                2013    2014    2015    2016  \n",
       "ISO Variable                                  \n",
       "AFG Surplus   -0.631  -1.741  -1.404   0.142  \n",
       "    Debt       6.749   6.380   6.246   6.751  \n",
       "ALB Surplus   -5.215  -5.461  -4.050  -2.463  \n",
       "    Debt      70.391  72.038  73.321  72.184  \n",
       "DZA Surplus   -0.400  -7.310 -16.154 -12.930  \n",
       "\n",
       "[5 rows x 38 columns]"
      ]
     },
     "execution_count": 4,
     "metadata": {},
     "output_type": "execute_result"
    }
   ],
   "source": [
    "data1 = data.set_index(['ISO', 'Variable'])\n",
    "data1.head()"
   ]
  },
  {
   "cell_type": "code",
   "execution_count": 17,
   "metadata": {
    "collapsed": false
   },
   "outputs": [
    {
     "data": {
      "text/html": [
       "<div>\n",
       "<table border=\"1\" class=\"dataframe\">\n",
       "  <thead>\n",
       "    <tr style=\"text-align: right;\">\n",
       "      <th></th>\n",
       "      <th>1980</th>\n",
       "      <th>1981</th>\n",
       "      <th>1982</th>\n",
       "      <th>1983</th>\n",
       "    </tr>\n",
       "    <tr>\n",
       "      <th>Variable</th>\n",
       "      <th></th>\n",
       "      <th></th>\n",
       "      <th></th>\n",
       "      <th></th>\n",
       "    </tr>\n",
       "  </thead>\n",
       "  <tbody>\n",
       "    <tr>\n",
       "      <th>Surplus</th>\n",
       "      <td>NaN</td>\n",
       "      <td>NaN</td>\n",
       "      <td>NaN</td>\n",
       "      <td>NaN</td>\n",
       "    </tr>\n",
       "    <tr>\n",
       "      <th>Debt</th>\n",
       "      <td>NaN</td>\n",
       "      <td>NaN</td>\n",
       "      <td>NaN</td>\n",
       "      <td>NaN</td>\n",
       "    </tr>\n",
       "  </tbody>\n",
       "</table>\n",
       "</div>"
      ],
      "text/plain": [
       "          1980  1981  1982  1983\n",
       "Variable                        \n",
       "Surplus    NaN   NaN   NaN   NaN\n",
       "Debt       NaN   NaN   NaN   NaN"
      ]
     },
     "execution_count": 17,
     "metadata": {},
     "output_type": "execute_result"
    }
   ],
   "source": [
    "data1.ix[('AFG', slice(None)), '1980':'1983']"
   ]
  },
  {
   "cell_type": "code",
   "execution_count": null,
   "metadata": {
    "collapsed": true
   },
   "outputs": [],
   "source": []
  }
 ],
 "metadata": {
  "anaconda-cloud": {},
  "kernelspec": {
   "display_name": "Python 3",
   "language": "python",
   "name": "python3"
  },
  "language_info": {
   "codemirror_mode": {
    "name": "ipython",
    "version": 3
   },
   "file_extension": ".py",
   "mimetype": "text/x-python",
   "name": "python",
   "nbconvert_exporter": "python",
   "pygments_lexer": "ipython3",
   "version": "3.6.0"
  }
 },
 "nbformat": 4,
 "nbformat_minor": 0
}
