{
 "cells": [
  {
   "cell_type": "markdown",
   "metadata": {},
   "source": [
    "# Timeseries\n",
    "\n",
    "---\n",
    "**Overview.**  We introduce the tools for working with dates, times, and time series data. We start with functionality built into python itself, then discuss how pandas builds on these tools to add powerful time series capabilities to DataFrames.\n",
    "\n",
    "**Outline**\n",
    "\n",
    "- [Quandl](#data): We show how to use the quandl package to access a large database of financial and economic data.\n",
    "- [Dates in python](#datetime): covers the basics of working with dates and times in python\n",
    "- [Dates in pandas](#pandas_dates): shows how to use dates with pandas objects\n",
    "\n",
    "\n",
    "**Note: requires internet access to run.**  \n",
    "\n",
    "This Jupyter notebook was created by Chase Coleman and Spencer Lyon for the NYU Stern course [Data Bootcamp](http://databootcamp.nyuecon.com/).  \n",
    "\n",
    "In order to run the code in this notebook, you will need to have the quandl package installed. You can do this from the command line using\n",
    "\n",
    "```\n",
    "pip install quandl --upgrade\n",
    "```\n",
    "\n",
    "---"
   ]
  },
  {
   "cell_type": "code",
   "execution_count": 2,
   "metadata": {
    "collapsed": false
   },
   "outputs": [
    {
     "name": "stdout",
     "output_type": "stream",
     "text": [
      "Python version: 3.5.2 |Anaconda custom (64-bit)| (default, Jul  2 2016, 17:53:06) \n",
      "[GCC 4.4.7 20120313 (Red Hat 4.4.7-1)]\n",
      "Pandas version:  0.19.2\n",
      "quandl version:  3.1.0\n",
      "Today:  2017-04-24\n"
     ]
    }
   ],
   "source": [
    "import sys                             # system module\n",
    "import pandas as pd                    # data package\n",
    "import matplotlib.pyplot as plt        # graphics module  \n",
    "import datetime as dt                  # date and time module\n",
    "import numpy as np\n",
    "%matplotlib inline    \n",
    "plt.style.use(\"ggplot\")\n",
    "\n",
    "# quandl package\n",
    "import quandl\n",
    "\n",
    "# check versions (overkill, but why not?)\n",
    "print('Python version:', sys.version)\n",
    "print('Pandas version: ', pd.__version__)\n",
    "print('quandl version: ', quandl.version.VERSION)\n",
    "print('Today: ', dt.date.today())\n",
    "\n",
    "# helper function to print info about dataframe\n",
    "\n",
    "def df_info(df):\n",
    "    print(\"Shape: \", df.shape)\n",
    "    print(\"dtypes: \", df.dtypes.to_dict())\n",
    "    print(\"index dtype: \", df.index.dtype)\n",
    "    return pd.concat([df.head(3), df.tail(3)])"
   ]
  },
  {
   "cell_type": "markdown",
   "metadata": {},
   "source": [
    "## Quandl <a id=data></a>\n",
    "\n",
    "[quandl](https://www.quandl.com) is a company that collects and maintains financial and economic data from standard sources (e.g. FRED, IMF, BEA, etc.) and non-standard sources (Fx data, company level data, trader receipts). The data is viewable on their webpage (see [here](https://www.quandl.com/data/BLSN-BLS-International) or [there](https://www.quandl.com/data/USTREASURY-US-Treasury) for examples), but made available to programming languages via their API. We will access their [API](https://www.quandl.com/docs/api#introduction) using their [python library](https://www.quandl.com/tools/python).\n",
    "\n",
    "Suppose, for example, that we wanted to get data on taxes in the US. Here's how we might find some:\n",
    "\n",
    "- Open up the quandl [search page](https://www.quandl.com/search)\n",
    "- Type in [\"US tax revenue\"](https://www.quandl.com/search)\n",
    "- Click on [one of the results](https://www.quandl.com/data/OECD/REV_NES_TOTALTAX_TAXUSD_USA-United-States-Total-Total-Tax-Revenue-Total-Tax-Revenue-In-Usd) that seems interesting to us\n",
    "- Checkout things like the frequency (Annual for this data set), the quandl code (top right, here it is `OECD/REV_NES_TOTALTAX_TAXUSD_USA`) and description."
   ]
  },
  {
   "cell_type": "markdown",
   "metadata": {},
   "source": [
    "**Exercise** (5 min): Go to Quandl's website and explore some of the data quandl has available. Come up with 2 datasets and make a dictionary that maps the quandl code into a reasonable name. For example, for the us tax revenue dataset above I could have done\n",
    "\n",
    "```python\n",
    "my_data = {\"OECD/REV_NES_TOTALTAX_TAXUSD_USA\": \"US_tax_rev\"}\n",
    "```"
   ]
  },
  {
   "cell_type": "code",
   "execution_count": null,
   "metadata": {
    "collapsed": true
   },
   "outputs": [],
   "source": []
  },
  {
   "cell_type": "markdown",
   "metadata": {},
   "source": [
    "We can download the data using the `quandl.get` function and passing it one of the Quandl codes we collected in the previous exercise"
   ]
  },
  {
   "cell_type": "code",
   "execution_count": 3,
   "metadata": {
    "collapsed": false
   },
   "outputs": [
    {
     "name": "stdout",
     "output_type": "stream",
     "text": [
      "Shape:  (51, 1)\n",
      "dtypes:  {'Value': dtype('float64')}\n",
      "index dtype:  datetime64[ns]\n"
     ]
    },
    {
     "data": {
      "text/html": [
       "<div>\n",
       "<table border=\"1\" class=\"dataframe\">\n",
       "  <thead>\n",
       "    <tr style=\"text-align: right;\">\n",
       "      <th></th>\n",
       "      <th>Value</th>\n",
       "    </tr>\n",
       "    <tr>\n",
       "      <th>Date</th>\n",
       "      <th></th>\n",
       "    </tr>\n",
       "  </thead>\n",
       "  <tbody>\n",
       "    <tr>\n",
       "      <th>1965-12-31</th>\n",
       "      <td>167022.00</td>\n",
       "    </tr>\n",
       "    <tr>\n",
       "      <th>1966-12-31</th>\n",
       "      <td>186065.00</td>\n",
       "    </tr>\n",
       "    <tr>\n",
       "      <th>1967-12-31</th>\n",
       "      <td>208577.00</td>\n",
       "    </tr>\n",
       "    <tr>\n",
       "      <th>2013-12-31</th>\n",
       "      <td>4283028.74</td>\n",
       "    </tr>\n",
       "    <tr>\n",
       "      <th>2014-12-31</th>\n",
       "      <td>4500529.62</td>\n",
       "    </tr>\n",
       "    <tr>\n",
       "      <th>2015-12-31</th>\n",
       "      <td>4754119.88</td>\n",
       "    </tr>\n",
       "  </tbody>\n",
       "</table>\n",
       "</div>"
      ],
      "text/plain": [
       "                 Value\n",
       "Date                  \n",
       "1965-12-31   167022.00\n",
       "1966-12-31   186065.00\n",
       "1967-12-31   208577.00\n",
       "2013-12-31  4283028.74\n",
       "2014-12-31  4500529.62\n",
       "2015-12-31  4754119.88"
      ]
     },
     "execution_count": 3,
     "metadata": {},
     "output_type": "execute_result"
    }
   ],
   "source": [
    "us_tax = quandl.get(\"OECD/REV_NES_TOTALTAX_TAXUSD_USA\")\n",
    "df_info(us_tax)"
   ]
  },
  {
   "cell_type": "markdown",
   "metadata": {},
   "source": [
    "We can also pass `start_date` and `end_date` parameters to control the dates for the downloaded data:"
   ]
  },
  {
   "cell_type": "code",
   "execution_count": 4,
   "metadata": {
    "collapsed": false
   },
   "outputs": [
    {
     "name": "stdout",
     "output_type": "stream",
     "text": [
      "Shape:  (16, 1)\n",
      "dtypes:  {'Value': dtype('float64')}\n",
      "index dtype:  datetime64[ns]\n"
     ]
    },
    {
     "data": {
      "text/html": [
       "<div>\n",
       "<table border=\"1\" class=\"dataframe\">\n",
       "  <thead>\n",
       "    <tr style=\"text-align: right;\">\n",
       "      <th></th>\n",
       "      <th>Value</th>\n",
       "    </tr>\n",
       "    <tr>\n",
       "      <th>Date</th>\n",
       "      <th></th>\n",
       "    </tr>\n",
       "  </thead>\n",
       "  <tbody>\n",
       "    <tr>\n",
       "      <th>2000-12-31</th>\n",
       "      <td>2900519.06</td>\n",
       "    </tr>\n",
       "    <tr>\n",
       "      <th>2001-12-31</th>\n",
       "      <td>2884729.87</td>\n",
       "    </tr>\n",
       "    <tr>\n",
       "      <th>2002-12-31</th>\n",
       "      <td>2738000.14</td>\n",
       "    </tr>\n",
       "    <tr>\n",
       "      <th>2013-12-31</th>\n",
       "      <td>4283028.74</td>\n",
       "    </tr>\n",
       "    <tr>\n",
       "      <th>2014-12-31</th>\n",
       "      <td>4500529.62</td>\n",
       "    </tr>\n",
       "    <tr>\n",
       "      <th>2015-12-31</th>\n",
       "      <td>4754119.88</td>\n",
       "    </tr>\n",
       "  </tbody>\n",
       "</table>\n",
       "</div>"
      ],
      "text/plain": [
       "                 Value\n",
       "Date                  \n",
       "2000-12-31  2900519.06\n",
       "2001-12-31  2884729.87\n",
       "2002-12-31  2738000.14\n",
       "2013-12-31  4283028.74\n",
       "2014-12-31  4500529.62\n",
       "2015-12-31  4754119.88"
      ]
     },
     "execution_count": 4,
     "metadata": {},
     "output_type": "execute_result"
    }
   ],
   "source": [
    "us_tax_recent = quandl.get(\"OECD/REV_NES_TOTALTAX_TAXUSD_USA\", start_date=\"2000-01-01\")\n",
    "df_info(us_tax_recent)"
   ]
  },
  {
   "cell_type": "markdown",
   "metadata": {},
   "source": [
    "Now, let's read in the data sets we found were interesting. Feel free to use the codes you looked up, or the ones I'm using here. "
   ]
  },
  {
   "cell_type": "code",
   "execution_count": 5,
   "metadata": {
    "collapsed": true
   },
   "outputs": [],
   "source": [
    "# For multiple data sources, it's useful to define a list/dict\n",
    "my_data = {\"FRED/DFF\": \"risk_free_rate\",\n",
    "           \"NVCA/VENTURE_3_09C\": \"vc_investments\"}\n",
    "\n",
    "dfs = []\n",
    "\n",
    "for k in my_data.keys():\n",
    "    dfs.append(quandl.get(k))"
   ]
  },
  {
   "cell_type": "code",
   "execution_count": 6,
   "metadata": {
    "collapsed": false
   },
   "outputs": [
    {
     "name": "stdout",
     "output_type": "stream",
     "text": [
      "Shape:  (126, 5)\n",
      "dtypes:  {'Expansion': dtype('float64'), 'Seed': dtype('float64'), 'Later Stage': dtype('float64'), 'Total': dtype('float64'), 'Early Stage': dtype('float64')}\n",
      "index dtype:  datetime64[ns]\n"
     ]
    },
    {
     "data": {
      "text/html": [
       "<div>\n",
       "<table border=\"1\" class=\"dataframe\">\n",
       "  <thead>\n",
       "    <tr style=\"text-align: right;\">\n",
       "      <th></th>\n",
       "      <th>Seed</th>\n",
       "      <th>Early Stage</th>\n",
       "      <th>Expansion</th>\n",
       "      <th>Later Stage</th>\n",
       "      <th>Total</th>\n",
       "    </tr>\n",
       "    <tr>\n",
       "      <th>Date</th>\n",
       "      <th></th>\n",
       "      <th></th>\n",
       "      <th></th>\n",
       "      <th></th>\n",
       "      <th></th>\n",
       "    </tr>\n",
       "  </thead>\n",
       "  <tbody>\n",
       "    <tr>\n",
       "      <th>1985-03-31</th>\n",
       "      <td>153.0000</td>\n",
       "      <td>96.3000</td>\n",
       "      <td>219.5000</td>\n",
       "      <td>154.4000</td>\n",
       "      <td>623.1000</td>\n",
       "    </tr>\n",
       "    <tr>\n",
       "      <th>1985-06-30</th>\n",
       "      <td>146.5000</td>\n",
       "      <td>185.3000</td>\n",
       "      <td>319.6000</td>\n",
       "      <td>89.4000</td>\n",
       "      <td>740.8000</td>\n",
       "    </tr>\n",
       "    <tr>\n",
       "      <th>1985-09-30</th>\n",
       "      <td>93.7000</td>\n",
       "      <td>106.3000</td>\n",
       "      <td>312.8000</td>\n",
       "      <td>164.4000</td>\n",
       "      <td>677.2000</td>\n",
       "    </tr>\n",
       "    <tr>\n",
       "      <th>2015-12-31</th>\n",
       "      <td>482.5349</td>\n",
       "      <td>5193.9647</td>\n",
       "      <td>3282.8216</td>\n",
       "      <td>3167.6023</td>\n",
       "      <td>12126.9235</td>\n",
       "    </tr>\n",
       "    <tr>\n",
       "      <th>2016-03-31</th>\n",
       "      <td>561.8670</td>\n",
       "      <td>4601.1276</td>\n",
       "      <td>4010.2623</td>\n",
       "      <td>3516.5483</td>\n",
       "      <td>12689.8052</td>\n",
       "    </tr>\n",
       "    <tr>\n",
       "      <th>2016-06-30</th>\n",
       "      <td>534.7283</td>\n",
       "      <td>3962.5863</td>\n",
       "      <td>8507.1810</td>\n",
       "      <td>2286.6906</td>\n",
       "      <td>15291.1862</td>\n",
       "    </tr>\n",
       "  </tbody>\n",
       "</table>\n",
       "</div>"
      ],
      "text/plain": [
       "                Seed  Early Stage  Expansion  Later Stage       Total\n",
       "Date                                                                 \n",
       "1985-03-31  153.0000      96.3000   219.5000     154.4000    623.1000\n",
       "1985-06-30  146.5000     185.3000   319.6000      89.4000    740.8000\n",
       "1985-09-30   93.7000     106.3000   312.8000     164.4000    677.2000\n",
       "2015-12-31  482.5349    5193.9647  3282.8216    3167.6023  12126.9235\n",
       "2016-03-31  561.8670    4601.1276  4010.2623    3516.5483  12689.8052\n",
       "2016-06-30  534.7283    3962.5863  8507.1810    2286.6906  15291.1862"
      ]
     },
     "execution_count": 6,
     "metadata": {},
     "output_type": "execute_result"
    }
   ],
   "source": [
    "df_info(dfs[0])"
   ]
  },
  {
   "cell_type": "markdown",
   "metadata": {},
   "source": [
    "To request specific columns use column indices (**NOT** 0-based)"
   ]
  },
  {
   "cell_type": "code",
   "execution_count": 35,
   "metadata": {
    "collapsed": false
   },
   "outputs": [
    {
     "data": {
      "text/html": [
       "<div>\n",
       "<table border=\"1\" class=\"dataframe\">\n",
       "  <thead>\n",
       "    <tr style=\"text-align: right;\">\n",
       "      <th></th>\n",
       "      <th>NVCA/VENTURE_3_09C - Early Stage</th>\n",
       "      <th>NVCA/VENTURE_3_09C - Total</th>\n",
       "    </tr>\n",
       "    <tr>\n",
       "      <th>Date</th>\n",
       "      <th></th>\n",
       "      <th></th>\n",
       "    </tr>\n",
       "  </thead>\n",
       "  <tbody>\n",
       "    <tr>\n",
       "      <th>1985-03-31</th>\n",
       "      <td>96.3</td>\n",
       "      <td>623.1</td>\n",
       "    </tr>\n",
       "    <tr>\n",
       "      <th>1985-06-30</th>\n",
       "      <td>185.3</td>\n",
       "      <td>740.8</td>\n",
       "    </tr>\n",
       "    <tr>\n",
       "      <th>1985-09-30</th>\n",
       "      <td>106.3</td>\n",
       "      <td>677.2</td>\n",
       "    </tr>\n",
       "    <tr>\n",
       "      <th>1985-12-31</th>\n",
       "      <td>129.9</td>\n",
       "      <td>735.1</td>\n",
       "    </tr>\n",
       "    <tr>\n",
       "      <th>1986-03-31</th>\n",
       "      <td>129.6</td>\n",
       "      <td>710.5</td>\n",
       "    </tr>\n",
       "  </tbody>\n",
       "</table>\n",
       "</div>"
      ],
      "text/plain": [
       "            NVCA/VENTURE_3_09C - Early Stage  NVCA/VENTURE_3_09C - Total\n",
       "Date                                                                    \n",
       "1985-03-31                              96.3                       623.1\n",
       "1985-06-30                             185.3                       740.8\n",
       "1985-09-30                             106.3                       677.2\n",
       "1985-12-31                             129.9                       735.1\n",
       "1986-03-31                             129.6                       710.5"
      ]
     },
     "execution_count": 35,
     "metadata": {},
     "output_type": "execute_result"
    }
   ],
   "source": [
    "quandl.get(['NVCA/VENTURE_3_09C.2', 'NVCA/VENTURE_3_09C.5']).head()"
   ]
  },
  {
   "cell_type": "markdown",
   "metadata": {},
   "source": [
    "To combine variables from different datasets"
   ]
  },
  {
   "cell_type": "code",
   "execution_count": 32,
   "metadata": {
    "collapsed": false
   },
   "outputs": [
    {
     "data": {
      "text/html": [
       "<div>\n",
       "<table border=\"1\" class=\"dataframe\">\n",
       "  <thead>\n",
       "    <tr style=\"text-align: right;\">\n",
       "      <th></th>\n",
       "      <th>NSE/OIL - Open</th>\n",
       "      <th>WIKI/AAPL - Close</th>\n",
       "    </tr>\n",
       "    <tr>\n",
       "      <th>Date</th>\n",
       "      <th></th>\n",
       "      <th></th>\n",
       "    </tr>\n",
       "  </thead>\n",
       "  <tbody>\n",
       "    <tr>\n",
       "      <th>1980-12-12</th>\n",
       "      <td>NaN</td>\n",
       "      <td>28.75</td>\n",
       "    </tr>\n",
       "    <tr>\n",
       "      <th>1980-12-15</th>\n",
       "      <td>NaN</td>\n",
       "      <td>27.25</td>\n",
       "    </tr>\n",
       "    <tr>\n",
       "      <th>1980-12-16</th>\n",
       "      <td>NaN</td>\n",
       "      <td>25.25</td>\n",
       "    </tr>\n",
       "    <tr>\n",
       "      <th>1980-12-17</th>\n",
       "      <td>NaN</td>\n",
       "      <td>25.87</td>\n",
       "    </tr>\n",
       "    <tr>\n",
       "      <th>1980-12-18</th>\n",
       "      <td>NaN</td>\n",
       "      <td>26.63</td>\n",
       "    </tr>\n",
       "    <tr>\n",
       "      <th>1980-12-19</th>\n",
       "      <td>NaN</td>\n",
       "      <td>28.25</td>\n",
       "    </tr>\n",
       "    <tr>\n",
       "      <th>1980-12-22</th>\n",
       "      <td>NaN</td>\n",
       "      <td>29.63</td>\n",
       "    </tr>\n",
       "    <tr>\n",
       "      <th>1980-12-23</th>\n",
       "      <td>NaN</td>\n",
       "      <td>30.88</td>\n",
       "    </tr>\n",
       "    <tr>\n",
       "      <th>1980-12-24</th>\n",
       "      <td>NaN</td>\n",
       "      <td>32.50</td>\n",
       "    </tr>\n",
       "    <tr>\n",
       "      <th>1980-12-26</th>\n",
       "      <td>NaN</td>\n",
       "      <td>35.50</td>\n",
       "    </tr>\n",
       "    <tr>\n",
       "      <th>1980-12-29</th>\n",
       "      <td>NaN</td>\n",
       "      <td>36.00</td>\n",
       "    </tr>\n",
       "    <tr>\n",
       "      <th>1980-12-30</th>\n",
       "      <td>NaN</td>\n",
       "      <td>35.12</td>\n",
       "    </tr>\n",
       "    <tr>\n",
       "      <th>1980-12-31</th>\n",
       "      <td>NaN</td>\n",
       "      <td>34.13</td>\n",
       "    </tr>\n",
       "    <tr>\n",
       "      <th>1981-01-02</th>\n",
       "      <td>NaN</td>\n",
       "      <td>34.50</td>\n",
       "    </tr>\n",
       "    <tr>\n",
       "      <th>1981-01-05</th>\n",
       "      <td>NaN</td>\n",
       "      <td>33.75</td>\n",
       "    </tr>\n",
       "    <tr>\n",
       "      <th>1981-01-06</th>\n",
       "      <td>NaN</td>\n",
       "      <td>32.25</td>\n",
       "    </tr>\n",
       "    <tr>\n",
       "      <th>1981-01-07</th>\n",
       "      <td>NaN</td>\n",
       "      <td>30.88</td>\n",
       "    </tr>\n",
       "    <tr>\n",
       "      <th>1981-01-08</th>\n",
       "      <td>NaN</td>\n",
       "      <td>30.25</td>\n",
       "    </tr>\n",
       "    <tr>\n",
       "      <th>1981-01-09</th>\n",
       "      <td>NaN</td>\n",
       "      <td>31.88</td>\n",
       "    </tr>\n",
       "    <tr>\n",
       "      <th>1981-01-12</th>\n",
       "      <td>NaN</td>\n",
       "      <td>31.62</td>\n",
       "    </tr>\n",
       "    <tr>\n",
       "      <th>1981-01-13</th>\n",
       "      <td>NaN</td>\n",
       "      <td>30.50</td>\n",
       "    </tr>\n",
       "    <tr>\n",
       "      <th>1981-01-14</th>\n",
       "      <td>NaN</td>\n",
       "      <td>30.63</td>\n",
       "    </tr>\n",
       "    <tr>\n",
       "      <th>1981-01-15</th>\n",
       "      <td>NaN</td>\n",
       "      <td>31.25</td>\n",
       "    </tr>\n",
       "    <tr>\n",
       "      <th>1981-01-16</th>\n",
       "      <td>NaN</td>\n",
       "      <td>31.00</td>\n",
       "    </tr>\n",
       "    <tr>\n",
       "      <th>1981-01-19</th>\n",
       "      <td>NaN</td>\n",
       "      <td>32.87</td>\n",
       "    </tr>\n",
       "    <tr>\n",
       "      <th>1981-01-20</th>\n",
       "      <td>NaN</td>\n",
       "      <td>31.88</td>\n",
       "    </tr>\n",
       "    <tr>\n",
       "      <th>1981-01-21</th>\n",
       "      <td>NaN</td>\n",
       "      <td>32.50</td>\n",
       "    </tr>\n",
       "    <tr>\n",
       "      <th>1981-01-22</th>\n",
       "      <td>NaN</td>\n",
       "      <td>32.87</td>\n",
       "    </tr>\n",
       "    <tr>\n",
       "      <th>1981-01-23</th>\n",
       "      <td>NaN</td>\n",
       "      <td>32.75</td>\n",
       "    </tr>\n",
       "    <tr>\n",
       "      <th>1981-01-26</th>\n",
       "      <td>NaN</td>\n",
       "      <td>32.25</td>\n",
       "    </tr>\n",
       "    <tr>\n",
       "      <th>...</th>\n",
       "      <td>...</td>\n",
       "      <td>...</td>\n",
       "    </tr>\n",
       "    <tr>\n",
       "      <th>2017-03-10</th>\n",
       "      <td>325.00</td>\n",
       "      <td>139.14</td>\n",
       "    </tr>\n",
       "    <tr>\n",
       "      <th>2017-03-13</th>\n",
       "      <td>NaN</td>\n",
       "      <td>139.20</td>\n",
       "    </tr>\n",
       "    <tr>\n",
       "      <th>2017-03-14</th>\n",
       "      <td>337.20</td>\n",
       "      <td>138.99</td>\n",
       "    </tr>\n",
       "    <tr>\n",
       "      <th>2017-03-15</th>\n",
       "      <td>334.10</td>\n",
       "      <td>140.46</td>\n",
       "    </tr>\n",
       "    <tr>\n",
       "      <th>2017-03-16</th>\n",
       "      <td>336.80</td>\n",
       "      <td>140.69</td>\n",
       "    </tr>\n",
       "    <tr>\n",
       "      <th>2017-03-17</th>\n",
       "      <td>338.00</td>\n",
       "      <td>139.99</td>\n",
       "    </tr>\n",
       "    <tr>\n",
       "      <th>2017-03-20</th>\n",
       "      <td>336.00</td>\n",
       "      <td>141.46</td>\n",
       "    </tr>\n",
       "    <tr>\n",
       "      <th>2017-03-21</th>\n",
       "      <td>332.60</td>\n",
       "      <td>139.84</td>\n",
       "    </tr>\n",
       "    <tr>\n",
       "      <th>2017-03-22</th>\n",
       "      <td>330.05</td>\n",
       "      <td>141.42</td>\n",
       "    </tr>\n",
       "    <tr>\n",
       "      <th>2017-03-23</th>\n",
       "      <td>329.90</td>\n",
       "      <td>140.92</td>\n",
       "    </tr>\n",
       "    <tr>\n",
       "      <th>2017-03-24</th>\n",
       "      <td>331.70</td>\n",
       "      <td>140.64</td>\n",
       "    </tr>\n",
       "    <tr>\n",
       "      <th>2017-03-27</th>\n",
       "      <td>331.70</td>\n",
       "      <td>140.88</td>\n",
       "    </tr>\n",
       "    <tr>\n",
       "      <th>2017-03-28</th>\n",
       "      <td>332.20</td>\n",
       "      <td>143.80</td>\n",
       "    </tr>\n",
       "    <tr>\n",
       "      <th>2017-03-29</th>\n",
       "      <td>331.80</td>\n",
       "      <td>144.12</td>\n",
       "    </tr>\n",
       "    <tr>\n",
       "      <th>2017-03-30</th>\n",
       "      <td>331.95</td>\n",
       "      <td>143.93</td>\n",
       "    </tr>\n",
       "    <tr>\n",
       "      <th>2017-03-31</th>\n",
       "      <td>329.95</td>\n",
       "      <td>143.71</td>\n",
       "    </tr>\n",
       "    <tr>\n",
       "      <th>2017-04-03</th>\n",
       "      <td>333.40</td>\n",
       "      <td>143.70</td>\n",
       "    </tr>\n",
       "    <tr>\n",
       "      <th>2017-04-04</th>\n",
       "      <td>NaN</td>\n",
       "      <td>144.77</td>\n",
       "    </tr>\n",
       "    <tr>\n",
       "      <th>2017-04-05</th>\n",
       "      <td>330.80</td>\n",
       "      <td>144.02</td>\n",
       "    </tr>\n",
       "    <tr>\n",
       "      <th>2017-04-06</th>\n",
       "      <td>332.20</td>\n",
       "      <td>143.66</td>\n",
       "    </tr>\n",
       "    <tr>\n",
       "      <th>2017-04-07</th>\n",
       "      <td>334.00</td>\n",
       "      <td>143.34</td>\n",
       "    </tr>\n",
       "    <tr>\n",
       "      <th>2017-04-10</th>\n",
       "      <td>334.30</td>\n",
       "      <td>143.14</td>\n",
       "    </tr>\n",
       "    <tr>\n",
       "      <th>2017-04-11</th>\n",
       "      <td>340.50</td>\n",
       "      <td>141.63</td>\n",
       "    </tr>\n",
       "    <tr>\n",
       "      <th>2017-04-12</th>\n",
       "      <td>337.75</td>\n",
       "      <td>141.79</td>\n",
       "    </tr>\n",
       "    <tr>\n",
       "      <th>2017-04-13</th>\n",
       "      <td>334.10</td>\n",
       "      <td>141.05</td>\n",
       "    </tr>\n",
       "    <tr>\n",
       "      <th>2017-04-17</th>\n",
       "      <td>334.75</td>\n",
       "      <td>141.80</td>\n",
       "    </tr>\n",
       "    <tr>\n",
       "      <th>2017-04-18</th>\n",
       "      <td>334.45</td>\n",
       "      <td>141.20</td>\n",
       "    </tr>\n",
       "    <tr>\n",
       "      <th>2017-04-19</th>\n",
       "      <td>331.10</td>\n",
       "      <td>140.68</td>\n",
       "    </tr>\n",
       "    <tr>\n",
       "      <th>2017-04-20</th>\n",
       "      <td>332.70</td>\n",
       "      <td>142.44</td>\n",
       "    </tr>\n",
       "    <tr>\n",
       "      <th>2017-04-21</th>\n",
       "      <td>324.80</td>\n",
       "      <td>NaN</td>\n",
       "    </tr>\n",
       "  </tbody>\n",
       "</table>\n",
       "<p>9233 rows × 2 columns</p>\n",
       "</div>"
      ],
      "text/plain": [
       "            NSE/OIL - Open  WIKI/AAPL - Close\n",
       "Date                                         \n",
       "1980-12-12             NaN              28.75\n",
       "1980-12-15             NaN              27.25\n",
       "1980-12-16             NaN              25.25\n",
       "1980-12-17             NaN              25.87\n",
       "1980-12-18             NaN              26.63\n",
       "1980-12-19             NaN              28.25\n",
       "1980-12-22             NaN              29.63\n",
       "1980-12-23             NaN              30.88\n",
       "1980-12-24             NaN              32.50\n",
       "1980-12-26             NaN              35.50\n",
       "1980-12-29             NaN              36.00\n",
       "1980-12-30             NaN              35.12\n",
       "1980-12-31             NaN              34.13\n",
       "1981-01-02             NaN              34.50\n",
       "1981-01-05             NaN              33.75\n",
       "1981-01-06             NaN              32.25\n",
       "1981-01-07             NaN              30.88\n",
       "1981-01-08             NaN              30.25\n",
       "1981-01-09             NaN              31.88\n",
       "1981-01-12             NaN              31.62\n",
       "1981-01-13             NaN              30.50\n",
       "1981-01-14             NaN              30.63\n",
       "1981-01-15             NaN              31.25\n",
       "1981-01-16             NaN              31.00\n",
       "1981-01-19             NaN              32.87\n",
       "1981-01-20             NaN              31.88\n",
       "1981-01-21             NaN              32.50\n",
       "1981-01-22             NaN              32.87\n",
       "1981-01-23             NaN              32.75\n",
       "1981-01-26             NaN              32.25\n",
       "...                    ...                ...\n",
       "2017-03-10          325.00             139.14\n",
       "2017-03-13             NaN             139.20\n",
       "2017-03-14          337.20             138.99\n",
       "2017-03-15          334.10             140.46\n",
       "2017-03-16          336.80             140.69\n",
       "2017-03-17          338.00             139.99\n",
       "2017-03-20          336.00             141.46\n",
       "2017-03-21          332.60             139.84\n",
       "2017-03-22          330.05             141.42\n",
       "2017-03-23          329.90             140.92\n",
       "2017-03-24          331.70             140.64\n",
       "2017-03-27          331.70             140.88\n",
       "2017-03-28          332.20             143.80\n",
       "2017-03-29          331.80             144.12\n",
       "2017-03-30          331.95             143.93\n",
       "2017-03-31          329.95             143.71\n",
       "2017-04-03          333.40             143.70\n",
       "2017-04-04             NaN             144.77\n",
       "2017-04-05          330.80             144.02\n",
       "2017-04-06          332.20             143.66\n",
       "2017-04-07          334.00             143.34\n",
       "2017-04-10          334.30             143.14\n",
       "2017-04-11          340.50             141.63\n",
       "2017-04-12          337.75             141.79\n",
       "2017-04-13          334.10             141.05\n",
       "2017-04-17          334.75             141.80\n",
       "2017-04-18          334.45             141.20\n",
       "2017-04-19          331.10             140.68\n",
       "2017-04-20          332.70             142.44\n",
       "2017-04-21          324.80                NaN\n",
       "\n",
       "[9233 rows x 2 columns]"
      ]
     },
     "execution_count": 32,
     "metadata": {},
     "output_type": "execute_result"
    }
   ],
   "source": [
    "quandl.get(['NSE/OIL.1', 'WIKI/AAPL.4'])"
   ]
  },
  {
   "cell_type": "markdown",
   "metadata": {},
   "source": [
    "What happened to the first column?"
   ]
  },
  {
   "cell_type": "code",
   "execution_count": 33,
   "metadata": {
    "collapsed": false
   },
   "outputs": [
    {
     "data": {
      "text/plain": [
       "array([<matplotlib.axes._subplots.AxesSubplot object at 0x7fc9eccacf60>,\n",
       "       <matplotlib.axes._subplots.AxesSubplot object at 0x7fc9e9526e10>], dtype=object)"
      ]
     },
     "execution_count": 33,
     "metadata": {},
     "output_type": "execute_result"
    },
    {
     "data": {
      "image/png": "[encoded data removed]",
      "text/plain": [
       "<matplotlib.figure.Figure at 0x7fc9e9788cf8>"
      ]
     },
     "metadata": {},
     "output_type": "display_data"
    }
   ],
   "source": [
    "mix = quandl.get(['NSE/OIL.1', 'WIKI/AAPL.4'])\n",
    "mix.plot(subplots=True)"
   ]
  },
  {
   "cell_type": "code",
   "execution_count": 36,
   "metadata": {
    "collapsed": false
   },
   "outputs": [
    {
     "name": "stdout",
     "output_type": "stream",
     "text": [
      "Shape:  (22940, 1)\n",
      "dtypes:  {'risk_free_rate': dtype('float64')}\n",
      "index dtype:  datetime64[ns]\n"
     ]
    },
    {
     "data": {
      "text/html": [
       "<div>\n",
       "<table border=\"1\" class=\"dataframe\">\n",
       "  <thead>\n",
       "    <tr style=\"text-align: right;\">\n",
       "      <th></th>\n",
       "      <th>risk_free_rate</th>\n",
       "    </tr>\n",
       "    <tr>\n",
       "      <th>DATE</th>\n",
       "      <th></th>\n",
       "    </tr>\n",
       "  </thead>\n",
       "  <tbody>\n",
       "    <tr>\n",
       "      <th>1954-07-01</th>\n",
       "      <td>1.13</td>\n",
       "    </tr>\n",
       "    <tr>\n",
       "      <th>1954-07-02</th>\n",
       "      <td>1.25</td>\n",
       "    </tr>\n",
       "    <tr>\n",
       "      <th>1954-07-03</th>\n",
       "      <td>1.25</td>\n",
       "    </tr>\n",
       "    <tr>\n",
       "      <th>2017-04-18</th>\n",
       "      <td>0.91</td>\n",
       "    </tr>\n",
       "    <tr>\n",
       "      <th>2017-04-19</th>\n",
       "      <td>0.91</td>\n",
       "    </tr>\n",
       "    <tr>\n",
       "      <th>2017-04-20</th>\n",
       "      <td>0.91</td>\n",
       "    </tr>\n",
       "  </tbody>\n",
       "</table>\n",
       "</div>"
      ],
      "text/plain": [
       "            risk_free_rate\n",
       "DATE                      \n",
       "1954-07-01            1.13\n",
       "1954-07-02            1.25\n",
       "1954-07-03            1.25\n",
       "2017-04-18            0.91\n",
       "2017-04-19            0.91\n",
       "2017-04-20            0.91"
      ]
     },
     "execution_count": 36,
     "metadata": {},
     "output_type": "execute_result"
    }
   ],
   "source": [
    "df_info(dfs[1])"
   ]
  },
  {
   "cell_type": "markdown",
   "metadata": {},
   "source": [
    "So, `\"FRED/DFF\"` is the [federal funds rate](https://fred.stlouisfed.org/series/FEDFUNDS), or the interest rate at which banks can trade federal assets with each other overnight. This is often used as a proxy for the risk free rate in economic analysis. \n",
    "\n",
    "From the printout above it looks like we have more than 22k observations starting in 1954 at a daily frequency.\n",
    "\n",
    "Notice, however that the column name is `DFF`. Let's use our dict to clean up that name:"
   ]
  },
  {
   "cell_type": "code",
   "execution_count": 14,
   "metadata": {
    "collapsed": false
   },
   "outputs": [
    {
     "name": "stdout",
     "output_type": "stream",
     "text": [
      "Shape:  (22940, 1)\n",
      "dtypes:  {'risk_free_rate': dtype('float64')}\n",
      "index dtype:  datetime64[ns]\n"
     ]
    },
    {
     "data": {
      "text/html": [
       "<div>\n",
       "<table border=\"1\" class=\"dataframe\">\n",
       "  <thead>\n",
       "    <tr style=\"text-align: right;\">\n",
       "      <th></th>\n",
       "      <th>risk_free_rate</th>\n",
       "    </tr>\n",
       "    <tr>\n",
       "      <th>DATE</th>\n",
       "      <th></th>\n",
       "    </tr>\n",
       "  </thead>\n",
       "  <tbody>\n",
       "    <tr>\n",
       "      <th>1954-07-01</th>\n",
       "      <td>1.13</td>\n",
       "    </tr>\n",
       "    <tr>\n",
       "      <th>1954-07-02</th>\n",
       "      <td>1.25</td>\n",
       "    </tr>\n",
       "    <tr>\n",
       "      <th>1954-07-03</th>\n",
       "      <td>1.25</td>\n",
       "    </tr>\n",
       "    <tr>\n",
       "      <th>2017-04-18</th>\n",
       "      <td>0.91</td>\n",
       "    </tr>\n",
       "    <tr>\n",
       "      <th>2017-04-19</th>\n",
       "      <td>0.91</td>\n",
       "    </tr>\n",
       "    <tr>\n",
       "      <th>2017-04-20</th>\n",
       "      <td>0.91</td>\n",
       "    </tr>\n",
       "  </tbody>\n",
       "</table>\n",
       "</div>"
      ],
      "text/plain": [
       "            risk_free_rate\n",
       "DATE                      \n",
       "1954-07-01            1.13\n",
       "1954-07-02            1.25\n",
       "1954-07-03            1.25\n",
       "2017-04-18            0.91\n",
       "2017-04-19            0.91\n",
       "2017-04-20            0.91"
      ]
     },
     "execution_count": 14,
     "metadata": {},
     "output_type": "execute_result"
    }
   ],
   "source": [
    "dfs[1].rename(columns={\"DFF\": my_data[\"FRED/DFF\"]}, inplace=True)\n",
    "df_info(dfs[1])"
   ]
  },
  {
   "cell_type": "markdown",
   "metadata": {},
   "source": [
    "We can change the sampling frequency:"
   ]
  },
  {
   "cell_type": "code",
   "execution_count": 44,
   "metadata": {
    "collapsed": false
   },
   "outputs": [
    {
     "name": "stdout",
     "output_type": "stream",
     "text": [
      "             DFF\n",
      "DATE            \n",
      "1954-09-30  1.44\n",
      "1954-12-31  1.44\n",
      "1955-03-31  1.44\n",
      "1955-06-30  1.69\n",
      "1955-09-30  2.19\n"
     ]
    },
    {
     "data": {
      "text/plain": [
       "<matplotlib.axes._subplots.AxesSubplot at 0x7fc9e93dd588>"
      ]
     },
     "execution_count": 44,
     "metadata": {},
     "output_type": "execute_result"
    },
    {
     "data": {
      "image/png": "[encoded data removed]",
      "text/plain": [
       "<matplotlib.figure.Figure at 0x7fc9e9120940>"
      ]
     },
     "metadata": {},
     "output_type": "display_data"
    }
   ],
   "source": [
    "quart = quandl.get(\"FRED/DFF\", collapse='quarterly')\n",
    "print(quart.head())\n",
    "quart.plot()"
   ]
  },
  {
   "cell_type": "markdown",
   "metadata": {},
   "source": [
    "Or we can perform elementary calculations on the data"
   ]
  },
  {
   "cell_type": "code",
   "execution_count": 45,
   "metadata": {
    "collapsed": false
   },
   "outputs": [
    {
     "data": {
      "text/plain": [
       "<matplotlib.axes._subplots.AxesSubplot at 0x7fc9e94c3a90>"
      ]
     },
     "execution_count": 45,
     "metadata": {},
     "output_type": "execute_result"
    },
    {
     "data": {
      "image/png": "[encoded data removed]",
      "text/plain": [
       "<matplotlib.figure.Figure at 0x7fc9e9136390>"
      ]
     },
     "metadata": {},
     "output_type": "display_data"
    }
   ],
   "source": [
    "diff = quandl.get(\"FRED/DFF\", transformation='rdiff')\n",
    "diff.plot()"
   ]
  },
  {
   "cell_type": "markdown",
   "metadata": {},
   "source": [
    "The other dataframe we dowloaded (using code `NVCA/VENTURE_3_09C`) contains quarterly data on total investment by venture capital firms in the US, broken down by the stage of the project.\n",
    "\n",
    "The column names here are ok, so we don't need to change anything."
   ]
  },
  {
   "cell_type": "markdown",
   "metadata": {},
   "source": [
    "So that we have the data easily acessible for later on, let's store these two variables in individual dataframes:"
   ]
  },
  {
   "cell_type": "code",
   "execution_count": 46,
   "metadata": {
    "collapsed": true
   },
   "outputs": [],
   "source": [
    "ffr = dfs[1]\n",
    "vc = dfs[0]"
   ]
  },
  {
   "cell_type": "markdown",
   "metadata": {},
   "source": [
    "#### Usage Limits\n",
    "\n",
    "The Quandl Python module is free. If you would like to make more than 50 calls a day, however, you will need to create a free Quandl account and set your API key:\n",
    "\n",
    "    quandl.ApiConfig.api_key = \"YOUR_KEY_HERE\"\n",
    "    mydata = quandl.get(\"FRED/GDP\")\n",
    "    \n",
    "The personalized API key is available here: https://www.quandl.com/account/api"
   ]
  },
  {
   "cell_type": "markdown",
   "metadata": {},
   "source": [
    "## Dates in python <a id=datetime></a>"
   ]
  },
  {
   "cell_type": "markdown",
   "metadata": {},
   "source": [
    "The date and time functionality in python comes from the built in `datetime` module. Notice above that we ran\n",
    "\n",
    "```python\n",
    "import datetime as dt\n",
    "```\n",
    "\n",
    "We've been using the `dt.date.today()` function throughout this course when we print the date at the top of our notebooks, but we haven't given it very much thought. Let's take a closer look now.\n",
    "\n",
    "To start, let's see what the type of `dt.date.today()` is"
   ]
  },
  {
   "cell_type": "code",
   "execution_count": 47,
   "metadata": {
    "collapsed": false
   },
   "outputs": [
    {
     "name": "stdout",
     "output_type": "stream",
     "text": [
      "the type of today is  <class 'datetime.date'>\n"
     ]
    }
   ],
   "source": [
    "today = dt.date.today()\n",
    "print(\"the type of today is \", type(today))"
   ]
  },
  {
   "cell_type": "markdown",
   "metadata": {},
   "source": [
    "Given that we have an object of type `datetime.date` we can do things like ask for the day, month, and year"
   ]
  },
  {
   "cell_type": "code",
   "execution_count": 48,
   "metadata": {
    "collapsed": false
   },
   "outputs": [
    {
     "name": "stdout",
     "output_type": "stream",
     "text": [
      "the day of the month is:  24\n",
      "we are curretly in month number 4\n",
      "The year is 2017\n"
     ]
    }
   ],
   "source": [
    "print(\"the day of the month is: \", today.day)\n",
    "print(\"we are curretly in month number\", today.month)\n",
    "print(\"The year is\", today.year)"
   ]
  },
  {
   "cell_type": "markdown",
   "metadata": {},
   "source": [
    "### timedelta\n",
    "\n",
    "Suppose that we wanted to construct a \"days until\" counter.\n",
    "\n",
    "To do this we will construct another `datetime.date` and use the `-` operator to find the differene between the other date and today."
   ]
  },
  {
   "cell_type": "code",
   "execution_count": 50,
   "metadata": {
    "collapsed": true
   },
   "outputs": [],
   "source": [
    "# construct a date by hand\n",
    "new_years_eve = dt.date(2017, 12, 31)"
   ]
  },
  {
   "cell_type": "code",
   "execution_count": 51,
   "metadata": {
    "collapsed": false
   },
   "outputs": [],
   "source": [
    "until_nye = new_years_eve - today"
   ]
  },
  {
   "cell_type": "code",
   "execution_count": 52,
   "metadata": {
    "collapsed": false
   },
   "outputs": [
    {
     "data": {
      "text/plain": [
       "datetime.timedelta"
      ]
     },
     "execution_count": 52,
     "metadata": {},
     "output_type": "execute_result"
    }
   ],
   "source": [
    "type(until_nye)"
   ]
  },
  {
   "cell_type": "markdown",
   "metadata": {},
   "source": [
    "We can get the number of days until new years eve by looking at `until_nye.days`"
   ]
  },
  {
   "cell_type": "code",
   "execution_count": 53,
   "metadata": {
    "collapsed": false
   },
   "outputs": [
    {
     "data": {
      "text/plain": [
       "251"
      ]
     },
     "execution_count": 53,
     "metadata": {},
     "output_type": "execute_result"
    }
   ],
   "source": [
    "until_nye.days"
   ]
  },
  {
   "cell_type": "markdown",
   "metadata": {},
   "source": [
    "**Exercise**: write a python function named `days_until` that accepts one argument (a `datetime.date`) and returns the number of days between today and that date. Apply your function to \n",
    "\n",
    "- May 5, 2017 (day the UG project is due)\n",
    "- Your birthday"
   ]
  },
  {
   "cell_type": "code",
   "execution_count": 54,
   "metadata": {
    "collapsed": true
   },
   "outputs": [],
   "source": [
    "def days_until(date):\n",
    "    today = dt.date.today()\n",
    "    numb_days = date - today\n",
    "    \n",
    "    return numb_days.days"
   ]
  },
  {
   "cell_type": "code",
   "execution_count": 55,
   "metadata": {
    "collapsed": true
   },
   "outputs": [],
   "source": [
    "project_due = dt.date(2017, 5, 5)"
   ]
  },
  {
   "cell_type": "code",
   "execution_count": 56,
   "metadata": {
    "collapsed": false
   },
   "outputs": [
    {
     "data": {
      "text/plain": [
       "11"
      ]
     },
     "execution_count": 56,
     "metadata": {},
     "output_type": "execute_result"
    }
   ],
   "source": [
    "days_until(project_due)"
   ]
  },
  {
   "cell_type": "markdown",
   "metadata": {},
   "source": [
    "We could also construct a `datetime.timedelta` by hand and add it to an existing date. Here's an example to see how many days until Spencer turns 30"
   ]
  },
  {
   "cell_type": "code",
   "execution_count": 57,
   "metadata": {
    "collapsed": true
   },
   "outputs": [],
   "source": [
    "spencer_bday = dt.date(1989, 4, 25)\n",
    "\n",
    "# NOTE: add 7 for the 7 leap years between 1989 and 2019\n",
    "thirty_years = dt.timedelta(days=365*30 + 7)"
   ]
  },
  {
   "cell_type": "code",
   "execution_count": 58,
   "metadata": {
    "collapsed": false
   },
   "outputs": [
    {
     "data": {
      "text/plain": [
       "datetime.date(2019, 4, 25)"
      ]
     },
     "execution_count": 58,
     "metadata": {},
     "output_type": "execute_result"
    }
   ],
   "source": [
    "# check to make sure it is still April 25th\n",
    "spencer_bday + thirty_years"
   ]
  },
  {
   "cell_type": "code",
   "execution_count": 59,
   "metadata": {
    "collapsed": false
   },
   "outputs": [
    {
     "name": "stdout",
     "output_type": "stream",
     "text": [
      "Spencer will be 30 in 731 days\n"
     ]
    }
   ],
   "source": [
    "days_to_30 = (spencer_bday + thirty_years - today).days\n",
    "print(\"Spencer will be 30 in {} days\".format(days_to_30))"
   ]
  },
  {
   "cell_type": "markdown",
   "metadata": {},
   "source": [
    "### datetime\n",
    "\n",
    "Being able to work with dates and the difference between dates is very useful, but sometimes we need to also think about times. To do that, we will look to the `dt.datetime` module.\n",
    "\n",
    "We can get the current date and time using `dt.datetime.now()`:"
   ]
  },
  {
   "cell_type": "code",
   "execution_count": 60,
   "metadata": {
    "collapsed": false
   },
   "outputs": [
    {
     "name": "stdout",
     "output_type": "stream",
     "text": [
      "type of now: <class 'datetime.datetime'>\n"
     ]
    },
    {
     "data": {
      "text/plain": [
       "datetime.datetime(2017, 4, 24, 11, 13, 54, 622506)"
      ]
     },
     "execution_count": 60,
     "metadata": {},
     "output_type": "execute_result"
    }
   ],
   "source": [
    "now = dt.datetime.now()\n",
    "print(\"type of now:\", type(now))\n",
    "now"
   ]
  },
  {
   "cell_type": "markdown",
   "metadata": {},
   "source": [
    "The numbers in the printout above are `year`, `month`, `day`, `hour`, `minute`, `second`, `millisecond`.\n",
    "\n",
    "Because we still have day, month, year information ; we can access these properties just as we did for the `today`  above:"
   ]
  },
  {
   "cell_type": "code",
   "execution_count": 61,
   "metadata": {
    "collapsed": false
   },
   "outputs": [
    {
     "name": "stdout",
     "output_type": "stream",
     "text": [
      "the day of the month is:  24\n",
      "we are curretly in month number 4\n",
      "The year is 2017\n"
     ]
    }
   ],
   "source": [
    "print(\"the day of the month is: \", now.day)\n",
    "print(\"we are curretly in month number\", now.month)\n",
    "print(\"The year is\", now.year)"
   ]
  },
  {
   "cell_type": "markdown",
   "metadata": {},
   "source": [
    "**Exercise**: Use tab completion to see what else we can access on our `dt.datetime` object `now`"
   ]
  },
  {
   "cell_type": "code",
   "execution_count": 67,
   "metadata": {
    "collapsed": false
   },
   "outputs": [
    {
     "data": {
      "text/plain": [
       "0"
      ]
     },
     "execution_count": 67,
     "metadata": {},
     "output_type": "execute_result"
    }
   ],
   "source": [
    "now.weekday()"
   ]
  },
  {
   "cell_type": "markdown",
   "metadata": {},
   "source": [
    "Time deltas work the same way with `datetime` objects as they did with `date` objects.\n",
    "\n",
    "We can see how many seconds until Spencer turns 30:"
   ]
  },
  {
   "cell_type": "code",
   "execution_count": 68,
   "metadata": {
    "collapsed": false
   },
   "outputs": [
    {
     "name": "stdout",
     "output_type": "stream",
     "text": [
      "Spencer will be 30 in 19150 seconds\n"
     ]
    }
   ],
   "source": [
    "# NOTE: we can only do arithmetic between many date objects or datetime obejcts\n",
    "#       we cannot add or subtract a datetime to/from a date. So, we need to \n",
    "#       re-create spencer_bday as a datetime object. \n",
    "# NOTE: The timedelta object is already compatible with date and datetime objects\n",
    "\n",
    "spencer_bday_time = dt.datetime(1989, 4, 25, 16, 33, 5)\n",
    "seconds_to_30 = (spencer_bday_time + thirty_years - now).seconds\n",
    "\n",
    "print(\"Spencer will be 30 in {} seconds\".format(seconds_to_30))"
   ]
  },
  {
   "cell_type": "markdown",
   "metadata": {},
   "source": [
    "### strftime\n",
    "\n",
    "Once we have date and time information, a very common thing to do is to print out a formatted version of that date. For example, suppose we wanted to print out a string in the format `YYYY-MM-DD`. To do this we use the `strftime` method. Here's an example"
   ]
  },
  {
   "cell_type": "code",
   "execution_count": 69,
   "metadata": {
    "collapsed": false
   },
   "outputs": [
    {
     "name": "stdout",
     "output_type": "stream",
     "text": [
      "Today is 2017-04-24\n"
     ]
    }
   ],
   "source": [
    "print(today.strftime(\"Today is %Y-%m-%d\"))"
   ]
  },
  {
   "cell_type": "markdown",
   "metadata": {},
   "source": [
    "Notice that the argument to `strftime` is a python string that can contain normal text (e.g. `Today is`) and a **special formatters** (the stuff starting with `%`). We haven't talked much about how to do string formatting, but in Python and many other languages using `%` inside strings has special meaning."
   ]
  },
  {
   "cell_type": "markdown",
   "metadata": {},
   "source": [
    "**Exercise** Using the [documentation](https://docs.python.org/3.5/library/datetime.html#strftime-strptime-behavior) for the string formatting behavior, figure out how to write the following strings using the method `strftime` method on the `spencer_bday_time` object\n",
    "\n",
    "- \"Spencer was born on 1989-04-25\""
   ]
  },
  {
   "cell_type": "code",
   "execution_count": 80,
   "metadata": {
    "collapsed": false
   },
   "outputs": [
    {
     "data": {
      "text/plain": [
       "'Spencer was born on 1989-04-25'"
      ]
     },
     "execution_count": 80,
     "metadata": {},
     "output_type": "execute_result"
    }
   ],
   "source": [
    "spencer_bday_time.strftime(\"Spencer was born on %Y-%m-%d\")"
   ]
  },
  {
   "cell_type": "markdown",
   "metadata": {},
   "source": [
    "- \"Spencer was born on a Tuesday\""
   ]
  },
  {
   "cell_type": "code",
   "execution_count": 79,
   "metadata": {
    "collapsed": false
   },
   "outputs": [
    {
     "data": {
      "text/plain": [
       "'Spencer was born on a Tuesday'"
      ]
     },
     "execution_count": 79,
     "metadata": {},
     "output_type": "execute_result"
    }
   ],
   "source": [
    "spencer_bday_time.strftime(\"Spencer was born on a %A\")"
   ]
  },
  {
   "cell_type": "markdown",
   "metadata": {},
   "source": [
    "- \"Spencer was born on Tuesday, Apr 25th\""
   ]
  },
  {
   "cell_type": "code",
   "execution_count": 78,
   "metadata": {
    "collapsed": false
   },
   "outputs": [
    {
     "data": {
      "text/plain": [
       "'Spencer was born on Tuesday, Apr 25th'"
      ]
     },
     "execution_count": 78,
     "metadata": {},
     "output_type": "execute_result"
    }
   ],
   "source": [
    "spencer_bday_time.strftime(\"Spencer was born on %A, %b %dth\")"
   ]
  },
  {
   "cell_type": "markdown",
   "metadata": {},
   "source": [
    "- (**bonus**) \"Spencer was born on Tuesday, April 25th at 04:33 PM\""
   ]
  },
  {
   "cell_type": "code",
   "execution_count": 77,
   "metadata": {
    "collapsed": false
   },
   "outputs": [
    {
     "data": {
      "text/plain": [
       "'Spencer was born on Tuesday, April 25th at 04:33 PM'"
      ]
     },
     "execution_count": 77,
     "metadata": {},
     "output_type": "execute_result"
    }
   ],
   "source": [
    "spencer_bday_time.strftime(\"Spencer was born on %A, %B %dth at %I:%M %p\")"
   ]
  },
  {
   "cell_type": "markdown",
   "metadata": {},
   "source": [
    "## Dates in Pandas <a id=pandas_dates></a>"
   ]
  },
  {
   "cell_type": "markdown",
   "metadata": {
    "collapsed": true
   },
   "source": [
    "Now we will look at how to use date and dateime functionality in pandas.\n",
    "\n",
    "To begin, lets take a closer look at the type of index we have on our `ffr` and `vc` dataframes:"
   ]
  },
  {
   "cell_type": "code",
   "execution_count": 81,
   "metadata": {
    "collapsed": false
   },
   "outputs": [
    {
     "data": {
      "text/plain": [
       "pandas.tseries.index.DatetimeIndex"
      ]
     },
     "execution_count": 81,
     "metadata": {},
     "output_type": "execute_result"
    }
   ],
   "source": [
    "type(ffr.index)"
   ]
  },
  {
   "cell_type": "markdown",
   "metadata": {},
   "source": [
    "Here we have a `DatetimeIndex`, which means pandas recogizes this DataFrame as containing time series data. \n",
    "\n",
    "What can we do now? A lot, here's a brief list:\n",
    "\n",
    "- `subset` the data using strings to get data for a particular time frame\n",
    "- `resample` the data to a diffrent frequency: this means we could convert daily to monthly, quarterly, etc.\n",
    "- quickly access things like `year`, `month`, and `day` for the observation\n",
    "- rolling computations: this will allow us to compute statistics on a rolling subset of the data. We'll show a simple example here, but check out the [docs](http://pandas.pydata.org/pandas-docs/stable/computation.html#window-functions) for more info\n",
    "- `snap` the observations to a particular frequency -- this one is a bit advanced and we won't cover it here\n",
    "\n",
    "For a much more comprehensive list with other examples see the [docs](http://pandas.pydata.org/pandas-docs/stable/timeseries.html#datetimeindex)\n",
    "\n",
    "For now, let's look at how to do these things with the data we obtained from quandl\n",
    "\n",
    "**NOTE** You can _only_ do these things when you have a `DatetimeIndex`. This means that even if one of the columns in your DataFrame has date or datetime information, you will need to set it as the index to access this functionality."
   ]
  },
  {
   "cell_type": "markdown",
   "metadata": {},
   "source": [
    "### subsetting \n",
    "\n",
    "Suppose we wanted to extract all the data for the federal funds rate for the year 2008."
   ]
  },
  {
   "cell_type": "code",
   "execution_count": 82,
   "metadata": {
    "collapsed": false
   },
   "outputs": [
    {
     "name": "stdout",
     "output_type": "stream",
     "text": [
      "ffr2008 is a <class 'pandas.core.frame.DataFrame'>\n",
      "Shape:  (366, 1)\n",
      "dtypes:  {'risk_free_rate': dtype('float64')}\n",
      "index dtype:  datetime64[ns]\n"
     ]
    },
    {
     "data": {
      "text/html": [
       "<div>\n",
       "<table border=\"1\" class=\"dataframe\">\n",
       "  <thead>\n",
       "    <tr style=\"text-align: right;\">\n",
       "      <th></th>\n",
       "      <th>risk_free_rate</th>\n",
       "    </tr>\n",
       "    <tr>\n",
       "      <th>DATE</th>\n",
       "      <th></th>\n",
       "    </tr>\n",
       "  </thead>\n",
       "  <tbody>\n",
       "    <tr>\n",
       "      <th>2008-01-01</th>\n",
       "      <td>3.06</td>\n",
       "    </tr>\n",
       "    <tr>\n",
       "      <th>2008-01-02</th>\n",
       "      <td>4.11</td>\n",
       "    </tr>\n",
       "    <tr>\n",
       "      <th>2008-01-03</th>\n",
       "      <td>4.25</td>\n",
       "    </tr>\n",
       "    <tr>\n",
       "      <th>2008-12-29</th>\n",
       "      <td>0.10</td>\n",
       "    </tr>\n",
       "    <tr>\n",
       "      <th>2008-12-30</th>\n",
       "      <td>0.09</td>\n",
       "    </tr>\n",
       "    <tr>\n",
       "      <th>2008-12-31</th>\n",
       "      <td>0.14</td>\n",
       "    </tr>\n",
       "  </tbody>\n",
       "</table>\n",
       "</div>"
      ],
      "text/plain": [
       "            risk_free_rate\n",
       "DATE                      \n",
       "2008-01-01            3.06\n",
       "2008-01-02            4.11\n",
       "2008-01-03            4.25\n",
       "2008-12-29            0.10\n",
       "2008-12-30            0.09\n",
       "2008-12-31            0.14"
      ]
     },
     "execution_count": 82,
     "metadata": {},
     "output_type": "execute_result"
    }
   ],
   "source": [
    "ffr2008 = ffr[\"2008\"]\n",
    "print(\"ffr2008 is a\", type(ffr2008))\n",
    "df_info(ffr2008)"
   ]
  },
  {
   "cell_type": "code",
   "execution_count": 83,
   "metadata": {
    "collapsed": false
   },
   "outputs": [
    {
     "data": {
      "text/plain": [
       "<matplotlib.axes._subplots.AxesSubplot at 0x7fc9e8e44ba8>"
      ]
     },
     "execution_count": 83,
     "metadata": {},
     "output_type": "execute_result"
    },
    {
     "data": {
      "image/png": "[encoded data removed]",
      "text/plain": [
       "<matplotlib.figure.Figure at 0x7fc9e8e3f978>"
      ]
     },
     "metadata": {},
     "output_type": "display_data"
    }
   ],
   "source": [
    "ffr2008.plot()"
   ]
  },
  {
   "cell_type": "markdown",
   "metadata": {},
   "source": [
    "Suppose we want to restrict to September 2008:"
   ]
  },
  {
   "cell_type": "code",
   "execution_count": 84,
   "metadata": {
    "collapsed": false
   },
   "outputs": [
    {
     "name": "stdout",
     "output_type": "stream",
     "text": [
      "Shape:  (30, 1)\n",
      "dtypes:  {'risk_free_rate': dtype('float64')}\n",
      "index dtype:  datetime64[ns]\n"
     ]
    },
    {
     "data": {
      "text/html": [
       "<div>\n",
       "<table border=\"1\" class=\"dataframe\">\n",
       "  <thead>\n",
       "    <tr style=\"text-align: right;\">\n",
       "      <th></th>\n",
       "      <th>risk_free_rate</th>\n",
       "    </tr>\n",
       "    <tr>\n",
       "      <th>DATE</th>\n",
       "      <th></th>\n",
       "    </tr>\n",
       "  </thead>\n",
       "  <tbody>\n",
       "    <tr>\n",
       "      <th>2008-09-01</th>\n",
       "      <td>1.94</td>\n",
       "    </tr>\n",
       "    <tr>\n",
       "      <th>2008-09-02</th>\n",
       "      <td>1.96</td>\n",
       "    </tr>\n",
       "    <tr>\n",
       "      <th>2008-09-03</th>\n",
       "      <td>2.01</td>\n",
       "    </tr>\n",
       "    <tr>\n",
       "      <th>2008-09-28</th>\n",
       "      <td>1.08</td>\n",
       "    </tr>\n",
       "    <tr>\n",
       "      <th>2008-09-29</th>\n",
       "      <td>1.56</td>\n",
       "    </tr>\n",
       "    <tr>\n",
       "      <th>2008-09-30</th>\n",
       "      <td>2.03</td>\n",
       "    </tr>\n",
       "  </tbody>\n",
       "</table>\n",
       "</div>"
      ],
      "text/plain": [
       "            risk_free_rate\n",
       "DATE                      \n",
       "2008-09-01            1.94\n",
       "2008-09-02            1.96\n",
       "2008-09-03            2.01\n",
       "2008-09-28            1.08\n",
       "2008-09-29            1.56\n",
       "2008-09-30            2.03"
      ]
     },
     "execution_count": 84,
     "metadata": {},
     "output_type": "execute_result"
    }
   ],
   "source": [
    "ffr_sep2008 = ffr[\"2008-09\"]\n",
    "df_info(ffr_sep2008)"
   ]
  },
  {
   "cell_type": "code",
   "execution_count": 85,
   "metadata": {
    "collapsed": false
   },
   "outputs": [
    {
     "data": {
      "text/plain": [
       "<matplotlib.axes._subplots.AxesSubplot at 0x7fc9e9157748>"
      ]
     },
     "execution_count": 85,
     "metadata": {},
     "output_type": "execute_result"
    },
    {
     "data": {
      "image/png": "[encoded data removed]",
      "text/plain": [
       "<matplotlib.figure.Figure at 0x7fc9e9164080>"
      ]
     },
     "metadata": {},
     "output_type": "display_data"
    }
   ],
   "source": [
    "ffr_sep2008.plot()"
   ]
  },
  {
   "cell_type": "markdown",
   "metadata": {},
   "source": [
    "We can use this same functionality to extract ranges of dates. To get the data starting in june 2007 and going until march 2011 we would do"
   ]
  },
  {
   "cell_type": "code",
   "execution_count": 86,
   "metadata": {
    "collapsed": false
   },
   "outputs": [
    {
     "name": "stdout",
     "output_type": "stream",
     "text": [
      "Shape:  (1400, 1)\n",
      "dtypes:  {'risk_free_rate': dtype('float64')}\n",
      "index dtype:  datetime64[ns]\n"
     ]
    },
    {
     "data": {
      "text/html": [
       "<div>\n",
       "<table border=\"1\" class=\"dataframe\">\n",
       "  <thead>\n",
       "    <tr style=\"text-align: right;\">\n",
       "      <th></th>\n",
       "      <th>risk_free_rate</th>\n",
       "    </tr>\n",
       "    <tr>\n",
       "      <th>DATE</th>\n",
       "      <th></th>\n",
       "    </tr>\n",
       "  </thead>\n",
       "  <tbody>\n",
       "    <tr>\n",
       "      <th>2007-06-01</th>\n",
       "      <td>5.23</td>\n",
       "    </tr>\n",
       "    <tr>\n",
       "      <th>2007-06-02</th>\n",
       "      <td>5.23</td>\n",
       "    </tr>\n",
       "    <tr>\n",
       "      <th>2007-06-03</th>\n",
       "      <td>5.23</td>\n",
       "    </tr>\n",
       "    <tr>\n",
       "      <th>2011-03-29</th>\n",
       "      <td>0.13</td>\n",
       "    </tr>\n",
       "    <tr>\n",
       "      <th>2011-03-30</th>\n",
       "      <td>0.13</td>\n",
       "    </tr>\n",
       "    <tr>\n",
       "      <th>2011-03-31</th>\n",
       "      <td>0.10</td>\n",
       "    </tr>\n",
       "  </tbody>\n",
       "</table>\n",
       "</div>"
      ],
      "text/plain": [
       "            risk_free_rate\n",
       "DATE                      \n",
       "2007-06-01            5.23\n",
       "2007-06-02            5.23\n",
       "2007-06-03            5.23\n",
       "2011-03-29            0.13\n",
       "2011-03-30            0.13\n",
       "2011-03-31            0.10"
      ]
     },
     "execution_count": 86,
     "metadata": {},
     "output_type": "execute_result"
    }
   ],
   "source": [
    "ffr2 = ffr[\"2007-06\":\"2011-03\"]\n",
    "df_info(ffr2)"
   ]
  },
  {
   "cell_type": "code",
   "execution_count": 87,
   "metadata": {
    "collapsed": false
   },
   "outputs": [
    {
     "data": {
      "text/plain": [
       "<matplotlib.axes._subplots.AxesSubplot at 0x7fc9e91c59e8>"
      ]
     },
     "execution_count": 87,
     "metadata": {},
     "output_type": "execute_result"
    },
    {
     "data": {
      "image/png": "[encoded data removed]",
      "text/plain": [
       "<matplotlib.figure.Figure at 0x7fc9e8f9a128>"
      ]
     },
     "metadata": {},
     "output_type": "display_data"
    }
   ],
   "source": [
    "ffr2.plot()"
   ]
  },
  {
   "cell_type": "markdown",
   "metadata": {},
   "source": [
    "**Exercise** Using one of your datasets from quandl, plot one or more variables for the last 3 years (2013 through 2016)"
   ]
  },
  {
   "cell_type": "code",
   "execution_count": 91,
   "metadata": {
    "collapsed": false
   },
   "outputs": [
    {
     "data": {
      "text/plain": [
       "<matplotlib.axes._subplots.AxesSubplot at 0x7fc9e8d63a20>"
      ]
     },
     "execution_count": 91,
     "metadata": {},
     "output_type": "execute_result"
    },
    {
     "data": {
      "image/png": "[encoded data removed]",
      "text/plain": [
       "<matplotlib.figure.Figure at 0x7fc9e95c6dd8>"
      ]
     },
     "metadata": {},
     "output_type": "display_data"
    }
   ],
   "source": [
    "vc['2013':'2016'].plot()"
   ]
  },
  {
   "cell_type": "markdown",
   "metadata": {},
   "source": [
    "### resampling\n",
    "\n",
    "Now suppose that instead of daily data, we wanted our federal funds data at a monthly frequency.\n",
    "\n",
    "To do this we use the `resample` method on our DataFrame"
   ]
  },
  {
   "cell_type": "code",
   "execution_count": 92,
   "metadata": {
    "collapsed": false
   },
   "outputs": [
    {
     "data": {
      "text/plain": [
       "pandas.tseries.resample.DatetimeIndexResampler"
      ]
     },
     "execution_count": 92,
     "metadata": {},
     "output_type": "execute_result"
    }
   ],
   "source": [
    "# MS means \"month start\"\n",
    "ffrM_resample = ffr.resample(\"MS\")\n",
    "type(ffrM_resample)"
   ]
  },
  {
   "cell_type": "markdown",
   "metadata": {},
   "source": [
    "Notice that when we call `resample` we don't get back a DataFrame at that frequency. This is because there is some ambiguity regarding just _how_ the frequency should be converted: should we take the average during the period, the first observation, last observation, sum the observations?\n",
    "\n",
    "In order to get a DataFrame we have to call a method on our `DatetimeIndexResampler` object. For this example, let's do the first observation in each period:"
   ]
  },
  {
   "cell_type": "code",
   "execution_count": 93,
   "metadata": {
    "collapsed": false
   },
   "outputs": [
    {
     "name": "stdout",
     "output_type": "stream",
     "text": [
      "Shape:  (754, 1)\n",
      "dtypes:  {'risk_free_rate': dtype('float64')}\n",
      "index dtype:  datetime64[ns]\n"
     ]
    },
    {
     "data": {
      "text/html": [
       "<div>\n",
       "<table border=\"1\" class=\"dataframe\">\n",
       "  <thead>\n",
       "    <tr style=\"text-align: right;\">\n",
       "      <th></th>\n",
       "      <th>risk_free_rate</th>\n",
       "    </tr>\n",
       "    <tr>\n",
       "      <th>DATE</th>\n",
       "      <th></th>\n",
       "    </tr>\n",
       "  </thead>\n",
       "  <tbody>\n",
       "    <tr>\n",
       "      <th>1954-07-01</th>\n",
       "      <td>1.13</td>\n",
       "    </tr>\n",
       "    <tr>\n",
       "      <th>1954-08-01</th>\n",
       "      <td>0.25</td>\n",
       "    </tr>\n",
       "    <tr>\n",
       "      <th>1954-09-01</th>\n",
       "      <td>1.44</td>\n",
       "    </tr>\n",
       "    <tr>\n",
       "      <th>2017-02-01</th>\n",
       "      <td>0.66</td>\n",
       "    </tr>\n",
       "    <tr>\n",
       "      <th>2017-03-01</th>\n",
       "      <td>0.66</td>\n",
       "    </tr>\n",
       "    <tr>\n",
       "      <th>2017-04-01</th>\n",
       "      <td>0.82</td>\n",
       "    </tr>\n",
       "  </tbody>\n",
       "</table>\n",
       "</div>"
      ],
      "text/plain": [
       "            risk_free_rate\n",
       "DATE                      \n",
       "1954-07-01            1.13\n",
       "1954-08-01            0.25\n",
       "1954-09-01            1.44\n",
       "2017-02-01            0.66\n",
       "2017-03-01            0.66\n",
       "2017-04-01            0.82"
      ]
     },
     "execution_count": 93,
     "metadata": {},
     "output_type": "execute_result"
    }
   ],
   "source": [
    "ffrM = ffrM_resample.first()\n",
    "df_info(ffrM)"
   ]
  },
  {
   "cell_type": "markdown",
   "metadata": {},
   "source": [
    "Note that we can also combine numbers with the specification of the resampling frequency. As an example, we can resample to a bi-weekly frequency using"
   ]
  },
  {
   "cell_type": "code",
   "execution_count": 96,
   "metadata": {
    "collapsed": false
   },
   "outputs": [
    {
     "data": {
      "text/plain": [
       "DatetimeIndexResampler [freq=<2 * Weeks: weekday=6>, axis=0, closed=right, label=right, convention=start, base=0]"
      ]
     },
     "execution_count": 96,
     "metadata": {},
     "output_type": "execute_result"
    }
   ],
   "source": [
    "ffr.resample(\"2w\")"
   ]
  },
  {
   "cell_type": "code",
   "execution_count": 97,
   "metadata": {
    "collapsed": false
   },
   "outputs": [
    {
     "data": {
      "text/html": [
       "<div>\n",
       "<table border=\"1\" class=\"dataframe\">\n",
       "  <thead>\n",
       "    <tr style=\"text-align: right;\">\n",
       "      <th></th>\n",
       "      <th>risk_free_rate</th>\n",
       "    </tr>\n",
       "    <tr>\n",
       "      <th>DATE</th>\n",
       "      <th></th>\n",
       "    </tr>\n",
       "  </thead>\n",
       "  <tbody>\n",
       "    <tr>\n",
       "      <th>1954-07-04</th>\n",
       "      <td>1.220000</td>\n",
       "    </tr>\n",
       "    <tr>\n",
       "      <th>1954-07-18</th>\n",
       "      <td>0.974286</td>\n",
       "    </tr>\n",
       "    <tr>\n",
       "      <th>1954-08-01</th>\n",
       "      <td>0.465000</td>\n",
       "    </tr>\n",
       "    <tr>\n",
       "      <th>1954-08-15</th>\n",
       "      <td>1.115000</td>\n",
       "    </tr>\n",
       "    <tr>\n",
       "      <th>1954-08-29</th>\n",
       "      <td>1.364286</td>\n",
       "    </tr>\n",
       "    <tr>\n",
       "      <th>1954-09-12</th>\n",
       "      <td>1.275000</td>\n",
       "    </tr>\n",
       "    <tr>\n",
       "      <th>1954-09-26</th>\n",
       "      <td>0.832143</td>\n",
       "    </tr>\n",
       "    <tr>\n",
       "      <th>1954-10-10</th>\n",
       "      <td>0.911429</td>\n",
       "    </tr>\n",
       "    <tr>\n",
       "      <th>1954-10-24</th>\n",
       "      <td>0.868571</td>\n",
       "    </tr>\n",
       "    <tr>\n",
       "      <th>1954-11-07</th>\n",
       "      <td>0.886429</td>\n",
       "    </tr>\n",
       "    <tr>\n",
       "      <th>1954-11-21</th>\n",
       "      <td>0.493571</td>\n",
       "    </tr>\n",
       "    <tr>\n",
       "      <th>1954-12-05</th>\n",
       "      <td>1.386429</td>\n",
       "    </tr>\n",
       "    <tr>\n",
       "      <th>1954-12-19</th>\n",
       "      <td>1.300714</td>\n",
       "    </tr>\n",
       "    <tr>\n",
       "      <th>1955-01-02</th>\n",
       "      <td>1.237857</td>\n",
       "    </tr>\n",
       "    <tr>\n",
       "      <th>1955-01-16</th>\n",
       "      <td>1.381429</td>\n",
       "    </tr>\n",
       "    <tr>\n",
       "      <th>1955-01-30</th>\n",
       "      <td>1.390714</td>\n",
       "    </tr>\n",
       "    <tr>\n",
       "      <th>1955-02-13</th>\n",
       "      <td>1.282857</td>\n",
       "    </tr>\n",
       "    <tr>\n",
       "      <th>1955-02-27</th>\n",
       "      <td>1.300714</td>\n",
       "    </tr>\n",
       "    <tr>\n",
       "      <th>1955-03-13</th>\n",
       "      <td>1.395000</td>\n",
       "    </tr>\n",
       "    <tr>\n",
       "      <th>1955-03-27</th>\n",
       "      <td>1.278571</td>\n",
       "    </tr>\n",
       "    <tr>\n",
       "      <th>1955-04-10</th>\n",
       "      <td>1.440000</td>\n",
       "    </tr>\n",
       "    <tr>\n",
       "      <th>1955-04-24</th>\n",
       "      <td>1.476429</td>\n",
       "    </tr>\n",
       "    <tr>\n",
       "      <th>1955-05-08</th>\n",
       "      <td>1.475000</td>\n",
       "    </tr>\n",
       "    <tr>\n",
       "      <th>1955-05-22</th>\n",
       "      <td>1.193571</td>\n",
       "    </tr>\n",
       "    <tr>\n",
       "      <th>1955-06-05</th>\n",
       "      <td>1.662857</td>\n",
       "    </tr>\n",
       "    <tr>\n",
       "      <th>1955-06-19</th>\n",
       "      <td>1.640714</td>\n",
       "    </tr>\n",
       "    <tr>\n",
       "      <th>1955-07-03</th>\n",
       "      <td>1.642143</td>\n",
       "    </tr>\n",
       "    <tr>\n",
       "      <th>1955-07-17</th>\n",
       "      <td>1.677143</td>\n",
       "    </tr>\n",
       "    <tr>\n",
       "      <th>1955-07-31</th>\n",
       "      <td>1.685714</td>\n",
       "    </tr>\n",
       "    <tr>\n",
       "      <th>1955-08-14</th>\n",
       "      <td>1.916429</td>\n",
       "    </tr>\n",
       "    <tr>\n",
       "      <th>...</th>\n",
       "      <td>...</td>\n",
       "    </tr>\n",
       "    <tr>\n",
       "      <th>2016-03-20</th>\n",
       "      <td>0.364286</td>\n",
       "    </tr>\n",
       "    <tr>\n",
       "      <th>2016-04-03</th>\n",
       "      <td>0.361429</td>\n",
       "    </tr>\n",
       "    <tr>\n",
       "      <th>2016-04-17</th>\n",
       "      <td>0.370000</td>\n",
       "    </tr>\n",
       "    <tr>\n",
       "      <th>2016-05-01</th>\n",
       "      <td>0.355000</td>\n",
       "    </tr>\n",
       "    <tr>\n",
       "      <th>2016-05-15</th>\n",
       "      <td>0.370000</td>\n",
       "    </tr>\n",
       "    <tr>\n",
       "      <th>2016-05-29</th>\n",
       "      <td>0.370000</td>\n",
       "    </tr>\n",
       "    <tr>\n",
       "      <th>2016-06-12</th>\n",
       "      <td>0.364286</td>\n",
       "    </tr>\n",
       "    <tr>\n",
       "      <th>2016-06-26</th>\n",
       "      <td>0.382857</td>\n",
       "    </tr>\n",
       "    <tr>\n",
       "      <th>2016-07-10</th>\n",
       "      <td>0.397857</td>\n",
       "    </tr>\n",
       "    <tr>\n",
       "      <th>2016-07-24</th>\n",
       "      <td>0.400000</td>\n",
       "    </tr>\n",
       "    <tr>\n",
       "      <th>2016-08-07</th>\n",
       "      <td>0.378571</td>\n",
       "    </tr>\n",
       "    <tr>\n",
       "      <th>2016-08-21</th>\n",
       "      <td>0.400000</td>\n",
       "    </tr>\n",
       "    <tr>\n",
       "      <th>2016-09-04</th>\n",
       "      <td>0.392857</td>\n",
       "    </tr>\n",
       "    <tr>\n",
       "      <th>2016-09-18</th>\n",
       "      <td>0.400000</td>\n",
       "    </tr>\n",
       "    <tr>\n",
       "      <th>2016-10-02</th>\n",
       "      <td>0.376429</td>\n",
       "    </tr>\n",
       "    <tr>\n",
       "      <th>2016-10-16</th>\n",
       "      <td>0.404286</td>\n",
       "    </tr>\n",
       "    <tr>\n",
       "      <th>2016-10-30</th>\n",
       "      <td>0.410000</td>\n",
       "    </tr>\n",
       "    <tr>\n",
       "      <th>2016-11-13</th>\n",
       "      <td>0.402857</td>\n",
       "    </tr>\n",
       "    <tr>\n",
       "      <th>2016-11-27</th>\n",
       "      <td>0.410000</td>\n",
       "    </tr>\n",
       "    <tr>\n",
       "      <th>2016-12-11</th>\n",
       "      <td>0.402857</td>\n",
       "    </tr>\n",
       "    <tr>\n",
       "      <th>2016-12-25</th>\n",
       "      <td>0.606429</td>\n",
       "    </tr>\n",
       "    <tr>\n",
       "      <th>2017-01-08</th>\n",
       "      <td>0.628571</td>\n",
       "    </tr>\n",
       "    <tr>\n",
       "      <th>2017-01-22</th>\n",
       "      <td>0.660000</td>\n",
       "    </tr>\n",
       "    <tr>\n",
       "      <th>2017-02-05</th>\n",
       "      <td>0.652857</td>\n",
       "    </tr>\n",
       "    <tr>\n",
       "      <th>2017-02-19</th>\n",
       "      <td>0.660000</td>\n",
       "    </tr>\n",
       "    <tr>\n",
       "      <th>2017-03-05</th>\n",
       "      <td>0.653571</td>\n",
       "    </tr>\n",
       "    <tr>\n",
       "      <th>2017-03-19</th>\n",
       "      <td>0.731429</td>\n",
       "    </tr>\n",
       "    <tr>\n",
       "      <th>2017-04-02</th>\n",
       "      <td>0.890714</td>\n",
       "    </tr>\n",
       "    <tr>\n",
       "      <th>2017-04-16</th>\n",
       "      <td>0.910000</td>\n",
       "    </tr>\n",
       "    <tr>\n",
       "      <th>2017-04-30</th>\n",
       "      <td>0.910000</td>\n",
       "    </tr>\n",
       "  </tbody>\n",
       "</table>\n",
       "<p>1640 rows × 1 columns</p>\n",
       "</div>"
      ],
      "text/plain": [
       "            risk_free_rate\n",
       "DATE                      \n",
       "1954-07-04        1.220000\n",
       "1954-07-18        0.974286\n",
       "1954-08-01        0.465000\n",
       "1954-08-15        1.115000\n",
       "1954-08-29        1.364286\n",
       "1954-09-12        1.275000\n",
       "1954-09-26        0.832143\n",
       "1954-10-10        0.911429\n",
       "1954-10-24        0.868571\n",
       "1954-11-07        0.886429\n",
       "1954-11-21        0.493571\n",
       "1954-12-05        1.386429\n",
       "1954-12-19        1.300714\n",
       "1955-01-02        1.237857\n",
       "1955-01-16        1.381429\n",
       "1955-01-30        1.390714\n",
       "1955-02-13        1.282857\n",
       "1955-02-27        1.300714\n",
       "1955-03-13        1.395000\n",
       "1955-03-27        1.278571\n",
       "1955-04-10        1.440000\n",
       "1955-04-24        1.476429\n",
       "1955-05-08        1.475000\n",
       "1955-05-22        1.193571\n",
       "1955-06-05        1.662857\n",
       "1955-06-19        1.640714\n",
       "1955-07-03        1.642143\n",
       "1955-07-17        1.677143\n",
       "1955-07-31        1.685714\n",
       "1955-08-14        1.916429\n",
       "...                    ...\n",
       "2016-03-20        0.364286\n",
       "2016-04-03        0.361429\n",
       "2016-04-17        0.370000\n",
       "2016-05-01        0.355000\n",
       "2016-05-15        0.370000\n",
       "2016-05-29        0.370000\n",
       "2016-06-12        0.364286\n",
       "2016-06-26        0.382857\n",
       "2016-07-10        0.397857\n",
       "2016-07-24        0.400000\n",
       "2016-08-07        0.378571\n",
       "2016-08-21        0.400000\n",
       "2016-09-04        0.392857\n",
       "2016-09-18        0.400000\n",
       "2016-10-02        0.376429\n",
       "2016-10-16        0.404286\n",
       "2016-10-30        0.410000\n",
       "2016-11-13        0.402857\n",
       "2016-11-27        0.410000\n",
       "2016-12-11        0.402857\n",
       "2016-12-25        0.606429\n",
       "2017-01-08        0.628571\n",
       "2017-01-22        0.660000\n",
       "2017-02-05        0.652857\n",
       "2017-02-19        0.660000\n",
       "2017-03-05        0.653571\n",
       "2017-03-19        0.731429\n",
       "2017-04-02        0.890714\n",
       "2017-04-16        0.910000\n",
       "2017-04-30        0.910000\n",
       "\n",
       "[1640 rows x 1 columns]"
      ]
     },
     "execution_count": 97,
     "metadata": {},
     "output_type": "execute_result"
    }
   ],
   "source": [
    "ffr.resample(\"2w\").mean()"
   ]
  },
  {
   "cell_type": "markdown",
   "metadata": {},
   "source": [
    "**Exercise**: Using the [documentation](http://pandas.pydata.org/pandas-docs/stable/timeseries.html#offset-aliases) for the most common frequencies, figure out how to resample one of your datasets to \n",
    "\n",
    "- A quarterly frequency -- make sure to get the _start_ of the quarter"
   ]
  },
  {
   "cell_type": "code",
   "execution_count": 99,
   "metadata": {
    "collapsed": false
   },
   "outputs": [
    {
     "data": {
      "text/html": [
       "<div>\n",
       "<table border=\"1\" class=\"dataframe\">\n",
       "  <thead>\n",
       "    <tr style=\"text-align: right;\">\n",
       "      <th></th>\n",
       "      <th>risk_free_rate</th>\n",
       "    </tr>\n",
       "    <tr>\n",
       "      <th>DATE</th>\n",
       "      <th></th>\n",
       "    </tr>\n",
       "  </thead>\n",
       "  <tbody>\n",
       "    <tr>\n",
       "      <th>1954-07-01</th>\n",
       "      <td>1.028478</td>\n",
       "    </tr>\n",
       "    <tr>\n",
       "      <th>1954-10-01</th>\n",
       "      <td>0.988370</td>\n",
       "    </tr>\n",
       "    <tr>\n",
       "      <th>1955-01-01</th>\n",
       "      <td>1.345000</td>\n",
       "    </tr>\n",
       "    <tr>\n",
       "      <th>1955-04-01</th>\n",
       "      <td>1.501099</td>\n",
       "    </tr>\n",
       "    <tr>\n",
       "      <th>1955-07-01</th>\n",
       "      <td>1.936522</td>\n",
       "    </tr>\n",
       "  </tbody>\n",
       "</table>\n",
       "</div>"
      ],
      "text/plain": [
       "            risk_free_rate\n",
       "DATE                      \n",
       "1954-07-01        1.028478\n",
       "1954-10-01        0.988370\n",
       "1955-01-01        1.345000\n",
       "1955-04-01        1.501099\n",
       "1955-07-01        1.936522"
      ]
     },
     "execution_count": 99,
     "metadata": {},
     "output_type": "execute_result"
    }
   ],
   "source": [
    "ffr.resample('QS').mean().head()"
   ]
  },
  {
   "cell_type": "markdown",
   "metadata": {},
   "source": [
    "- An annual frequency -- use the end of the _year_"
   ]
  },
  {
   "cell_type": "code",
   "execution_count": 100,
   "metadata": {
    "collapsed": false
   },
   "outputs": [
    {
     "data": {
      "text/html": [
       "<div>\n",
       "<table border=\"1\" class=\"dataframe\">\n",
       "  <thead>\n",
       "    <tr style=\"text-align: right;\">\n",
       "      <th></th>\n",
       "      <th>risk_free_rate</th>\n",
       "    </tr>\n",
       "    <tr>\n",
       "      <th>DATE</th>\n",
       "      <th></th>\n",
       "    </tr>\n",
       "  </thead>\n",
       "  <tbody>\n",
       "    <tr>\n",
       "      <th>1954-12-31</th>\n",
       "      <td>1.008424</td>\n",
       "    </tr>\n",
       "    <tr>\n",
       "      <th>1955-12-31</th>\n",
       "      <td>1.788603</td>\n",
       "    </tr>\n",
       "    <tr>\n",
       "      <th>1956-12-31</th>\n",
       "      <td>2.729590</td>\n",
       "    </tr>\n",
       "    <tr>\n",
       "      <th>1957-12-31</th>\n",
       "      <td>3.105342</td>\n",
       "    </tr>\n",
       "    <tr>\n",
       "      <th>1958-12-31</th>\n",
       "      <td>1.572356</td>\n",
       "    </tr>\n",
       "  </tbody>\n",
       "</table>\n",
       "</div>"
      ],
      "text/plain": [
       "            risk_free_rate\n",
       "DATE                      \n",
       "1954-12-31        1.008424\n",
       "1955-12-31        1.788603\n",
       "1956-12-31        2.729590\n",
       "1957-12-31        3.105342\n",
       "1958-12-31        1.572356"
      ]
     },
     "execution_count": 100,
     "metadata": {},
     "output_type": "execute_result"
    }
   ],
   "source": [
    "ffr.resample('A').mean().head()"
   ]
  },
  {
   "cell_type": "markdown",
   "metadata": {},
   "source": [
    "**more than you need**: I want to point out that when you use the `first` or `last` methods to perform the aggregations, there are two dates involved: (1) the date the resultant index will have and (2) the date used to fill in the data at that date. The first date (one on the index) will be assigned based on the string you pass to the `resample` method. The second date (the one for extracting data from the original dataframe) will be determined based on the method used to do the aggregation. `first` will extract the first data point from that subset and `last` will extract the last.\n",
    "\n",
    "Let's see some examples:"
   ]
  },
  {
   "cell_type": "code",
   "execution_count": 101,
   "metadata": {
    "collapsed": false
   },
   "outputs": [
    {
     "data": {
      "text/html": [
       "<div>\n",
       "<table border=\"1\" class=\"dataframe\">\n",
       "  <thead>\n",
       "    <tr style=\"text-align: right;\">\n",
       "      <th></th>\n",
       "      <th>risk_free_rate</th>\n",
       "    </tr>\n",
       "    <tr>\n",
       "      <th>DATE</th>\n",
       "      <th></th>\n",
       "    </tr>\n",
       "  </thead>\n",
       "  <tbody>\n",
       "    <tr>\n",
       "      <th>1954-07-31</th>\n",
       "      <td>1.13</td>\n",
       "    </tr>\n",
       "    <tr>\n",
       "      <th>1954-08-31</th>\n",
       "      <td>0.25</td>\n",
       "    </tr>\n",
       "    <tr>\n",
       "      <th>1954-09-30</th>\n",
       "      <td>1.44</td>\n",
       "    </tr>\n",
       "    <tr>\n",
       "      <th>1954-10-31</th>\n",
       "      <td>0.50</td>\n",
       "    </tr>\n",
       "    <tr>\n",
       "      <th>1954-11-30</th>\n",
       "      <td>1.38</td>\n",
       "    </tr>\n",
       "  </tbody>\n",
       "</table>\n",
       "</div>"
      ],
      "text/plain": [
       "            risk_free_rate\n",
       "DATE                      \n",
       "1954-07-31            1.13\n",
       "1954-08-31            0.25\n",
       "1954-09-30            1.44\n",
       "1954-10-31            0.50\n",
       "1954-11-30            1.38"
      ]
     },
     "execution_count": 101,
     "metadata": {},
     "output_type": "execute_result"
    }
   ],
   "source": [
    "ffr.resample(\"M\").first().head()"
   ]
  },
  {
   "cell_type": "code",
   "execution_count": 103,
   "metadata": {
    "collapsed": false
   },
   "outputs": [
    {
     "data": {
      "text/html": [
       "<div>\n",
       "<table border=\"1\" class=\"dataframe\">\n",
       "  <thead>\n",
       "    <tr style=\"text-align: right;\">\n",
       "      <th></th>\n",
       "      <th>risk_free_rate</th>\n",
       "    </tr>\n",
       "    <tr>\n",
       "      <th>DATE</th>\n",
       "      <th></th>\n",
       "    </tr>\n",
       "  </thead>\n",
       "  <tbody>\n",
       "    <tr>\n",
       "      <th>1954-07-31</th>\n",
       "      <td>0.25</td>\n",
       "    </tr>\n",
       "    <tr>\n",
       "      <th>1954-08-31</th>\n",
       "      <td>1.44</td>\n",
       "    </tr>\n",
       "    <tr>\n",
       "      <th>1954-09-30</th>\n",
       "      <td>1.44</td>\n",
       "    </tr>\n",
       "    <tr>\n",
       "      <th>1954-10-31</th>\n",
       "      <td>1.13</td>\n",
       "    </tr>\n",
       "    <tr>\n",
       "      <th>1954-11-30</th>\n",
       "      <td>1.38</td>\n",
       "    </tr>\n",
       "  </tbody>\n",
       "</table>\n",
       "</div>"
      ],
      "text/plain": [
       "            risk_free_rate\n",
       "DATE                      \n",
       "1954-07-31            0.25\n",
       "1954-08-31            1.44\n",
       "1954-09-30            1.44\n",
       "1954-10-31            1.13\n",
       "1954-11-30            1.38"
      ]
     },
     "execution_count": 103,
     "metadata": {},
     "output_type": "execute_result"
    }
   ],
   "source": [
    "ffr.resample(\"M\").last().head()"
   ]
  },
  {
   "cell_type": "markdown",
   "metadata": {},
   "source": [
    "Notice that the index is the same on both, but the data is clearly different.\n",
    "\n",
    "If we use `MS` instead of `M` we will have the index based on the first day of the month:"
   ]
  },
  {
   "cell_type": "code",
   "execution_count": 104,
   "metadata": {
    "collapsed": false
   },
   "outputs": [
    {
     "data": {
      "text/html": [
       "<div>\n",
       "<table border=\"1\" class=\"dataframe\">\n",
       "  <thead>\n",
       "    <tr style=\"text-align: right;\">\n",
       "      <th></th>\n",
       "      <th>risk_free_rate</th>\n",
       "    </tr>\n",
       "    <tr>\n",
       "      <th>DATE</th>\n",
       "      <th></th>\n",
       "    </tr>\n",
       "  </thead>\n",
       "  <tbody>\n",
       "    <tr>\n",
       "      <th>1954-07-01</th>\n",
       "      <td>1.13</td>\n",
       "    </tr>\n",
       "    <tr>\n",
       "      <th>1954-08-01</th>\n",
       "      <td>0.25</td>\n",
       "    </tr>\n",
       "    <tr>\n",
       "      <th>1954-09-01</th>\n",
       "      <td>1.44</td>\n",
       "    </tr>\n",
       "    <tr>\n",
       "      <th>1954-10-01</th>\n",
       "      <td>0.50</td>\n",
       "    </tr>\n",
       "    <tr>\n",
       "      <th>1954-11-01</th>\n",
       "      <td>1.38</td>\n",
       "    </tr>\n",
       "  </tbody>\n",
       "</table>\n",
       "</div>"
      ],
      "text/plain": [
       "            risk_free_rate\n",
       "DATE                      \n",
       "1954-07-01            1.13\n",
       "1954-08-01            0.25\n",
       "1954-09-01            1.44\n",
       "1954-10-01            0.50\n",
       "1954-11-01            1.38"
      ]
     },
     "execution_count": 104,
     "metadata": {},
     "output_type": "execute_result"
    }
   ],
   "source": [
    "ffr.resample(\"MS\").first().head()"
   ]
  },
  {
   "cell_type": "code",
   "execution_count": 105,
   "metadata": {
    "collapsed": false
   },
   "outputs": [
    {
     "data": {
      "text/html": [
       "<div>\n",
       "<table border=\"1\" class=\"dataframe\">\n",
       "  <thead>\n",
       "    <tr style=\"text-align: right;\">\n",
       "      <th></th>\n",
       "      <th>risk_free_rate</th>\n",
       "    </tr>\n",
       "    <tr>\n",
       "      <th>DATE</th>\n",
       "      <th></th>\n",
       "    </tr>\n",
       "  </thead>\n",
       "  <tbody>\n",
       "    <tr>\n",
       "      <th>1954-07-01</th>\n",
       "      <td>0.25</td>\n",
       "    </tr>\n",
       "    <tr>\n",
       "      <th>1954-08-01</th>\n",
       "      <td>1.44</td>\n",
       "    </tr>\n",
       "    <tr>\n",
       "      <th>1954-09-01</th>\n",
       "      <td>1.44</td>\n",
       "    </tr>\n",
       "    <tr>\n",
       "      <th>1954-10-01</th>\n",
       "      <td>1.13</td>\n",
       "    </tr>\n",
       "    <tr>\n",
       "      <th>1954-11-01</th>\n",
       "      <td>1.38</td>\n",
       "    </tr>\n",
       "  </tbody>\n",
       "</table>\n",
       "</div>"
      ],
      "text/plain": [
       "            risk_free_rate\n",
       "DATE                      \n",
       "1954-07-01            0.25\n",
       "1954-08-01            1.44\n",
       "1954-09-01            1.44\n",
       "1954-10-01            1.13\n",
       "1954-11-01            1.38"
      ]
     },
     "execution_count": 105,
     "metadata": {},
     "output_type": "execute_result"
    }
   ],
   "source": [
    "ffr.resample(\"MS\").last().head()"
   ]
  },
  {
   "cell_type": "markdown",
   "metadata": {},
   "source": [
    "Notice how the data associated with `\"M\"` and `first` is the same as the data for `\"MS\"` and `first`. The same holds for `last`."
   ]
  },
  {
   "cell_type": "markdown",
   "metadata": {},
   "source": [
    "### Access year, month, day...\n",
    "\n",
    "Given a `DatetimeIndex` you can access the day, month, or year (also second, millisecond, etc.) by simply accessing the `.XX` property; where `XX` is the data you want"
   ]
  },
  {
   "cell_type": "code",
   "execution_count": 106,
   "metadata": {
    "collapsed": false
   },
   "outputs": [
    {
     "data": {
      "text/plain": [
       "array([1954, 1954, 1954, ..., 2017, 2017, 2017], dtype=int32)"
      ]
     },
     "execution_count": 106,
     "metadata": {},
     "output_type": "execute_result"
    }
   ],
   "source": [
    "ffr.index.year"
   ]
  },
  {
   "cell_type": "code",
   "execution_count": 107,
   "metadata": {
    "collapsed": false
   },
   "outputs": [
    {
     "data": {
      "text/plain": [
       "array([ 1,  2,  3, ..., 18, 19, 20], dtype=int32)"
      ]
     },
     "execution_count": 107,
     "metadata": {},
     "output_type": "execute_result"
    }
   ],
   "source": [
    "ffr.index.day"
   ]
  },
  {
   "cell_type": "code",
   "execution_count": 108,
   "metadata": {
    "collapsed": false
   },
   "outputs": [
    {
     "data": {
      "text/plain": [
       "array([7, 7, 7, ..., 4, 4, 4], dtype=int32)"
      ]
     },
     "execution_count": 108,
     "metadata": {},
     "output_type": "execute_result"
    }
   ],
   "source": [
    "ffr.index.month"
   ]
  },
  {
   "cell_type": "markdown",
   "metadata": {},
   "source": [
    "### Rolling computations\n",
    "\n",
    "We can use pandas to do rolling computations.\n",
    "\n",
    "For example, suppose we **want** to plot the maximum and minimum of the risk free rate within the past week at each date (think about that slowly -- for every date, we want to look back 7 days and compute the max).\n",
    "\n",
    "Here's how we can do that"
   ]
  },
  {
   "cell_type": "code",
   "execution_count": 111,
   "metadata": {
    "collapsed": false
   },
   "outputs": [
    {
     "data": {
      "text/plain": [
       "<matplotlib.legend.Legend at 0x7fc9e2c49240>"
      ]
     },
     "execution_count": 111,
     "metadata": {},
     "output_type": "execute_result"
    },
    {
     "data": {
      "image/png": "[encoded data removed]",
      "text/plain": [
       "<matplotlib.figure.Figure at 0x7fc9e2c49c88>"
      ]
     },
     "metadata": {},
     "output_type": "display_data"
    }
   ],
   "source": [
    "fig, ax = plt.subplots()\n",
    "ffr.rolling(window=7).max().plot(ax=ax)\n",
    "ffr.rolling(window=7).min().plot(ax=ax)\n",
    "ax.legend([\"max\", \"min\"])"
   ]
  },
  {
   "cell_type": "markdown",
   "metadata": {},
   "source": [
    "Note that this is different from just resampling because we will have an observation for every date in the original dataframe (except the number of dates at the front needed to construct the initial window)."
   ]
  },
  {
   "cell_type": "code",
   "execution_count": 112,
   "metadata": {
    "collapsed": false
   },
   "outputs": [
    {
     "data": {
      "text/html": [
       "<div>\n",
       "<table border=\"1\" class=\"dataframe\">\n",
       "  <thead>\n",
       "    <tr style=\"text-align: right;\">\n",
       "      <th></th>\n",
       "      <th>risk_free_rate</th>\n",
       "    </tr>\n",
       "    <tr>\n",
       "      <th>DATE</th>\n",
       "      <th></th>\n",
       "    </tr>\n",
       "  </thead>\n",
       "  <tbody>\n",
       "    <tr>\n",
       "      <th>1954-07-01</th>\n",
       "      <td>NaN</td>\n",
       "    </tr>\n",
       "    <tr>\n",
       "      <th>1954-07-02</th>\n",
       "      <td>NaN</td>\n",
       "    </tr>\n",
       "    <tr>\n",
       "      <th>1954-07-03</th>\n",
       "      <td>NaN</td>\n",
       "    </tr>\n",
       "    <tr>\n",
       "      <th>1954-07-04</th>\n",
       "      <td>NaN</td>\n",
       "    </tr>\n",
       "    <tr>\n",
       "      <th>1954-07-05</th>\n",
       "      <td>NaN</td>\n",
       "    </tr>\n",
       "    <tr>\n",
       "      <th>1954-07-06</th>\n",
       "      <td>NaN</td>\n",
       "    </tr>\n",
       "    <tr>\n",
       "      <th>1954-07-07</th>\n",
       "      <td>1.25</td>\n",
       "    </tr>\n",
       "    <tr>\n",
       "      <th>1954-07-08</th>\n",
       "      <td>1.25</td>\n",
       "    </tr>\n",
       "    <tr>\n",
       "      <th>1954-07-09</th>\n",
       "      <td>1.25</td>\n",
       "    </tr>\n",
       "    <tr>\n",
       "      <th>1954-07-10</th>\n",
       "      <td>1.25</td>\n",
       "    </tr>\n",
       "  </tbody>\n",
       "</table>\n",
       "</div>"
      ],
      "text/plain": [
       "            risk_free_rate\n",
       "DATE                      \n",
       "1954-07-01             NaN\n",
       "1954-07-02             NaN\n",
       "1954-07-03             NaN\n",
       "1954-07-04             NaN\n",
       "1954-07-05             NaN\n",
       "1954-07-06             NaN\n",
       "1954-07-07            1.25\n",
       "1954-07-08            1.25\n",
       "1954-07-09            1.25\n",
       "1954-07-10            1.25"
      ]
     },
     "execution_count": 112,
     "metadata": {},
     "output_type": "execute_result"
    }
   ],
   "source": [
    "ffr.rolling(window=7).max().head(10)"
   ]
  },
  {
   "cell_type": "code",
   "execution_count": 113,
   "metadata": {
    "collapsed": false
   },
   "outputs": [
    {
     "data": {
      "text/html": [
       "<div>\n",
       "<table border=\"1\" class=\"dataframe\">\n",
       "  <thead>\n",
       "    <tr style=\"text-align: right;\">\n",
       "      <th></th>\n",
       "      <th>risk_free_rate</th>\n",
       "    </tr>\n",
       "    <tr>\n",
       "      <th>DATE</th>\n",
       "      <th></th>\n",
       "    </tr>\n",
       "  </thead>\n",
       "  <tbody>\n",
       "    <tr>\n",
       "      <th>1954-07-01</th>\n",
       "      <td>1.25</td>\n",
       "    </tr>\n",
       "    <tr>\n",
       "      <th>1954-07-08</th>\n",
       "      <td>1.25</td>\n",
       "    </tr>\n",
       "    <tr>\n",
       "      <th>1954-07-15</th>\n",
       "      <td>0.75</td>\n",
       "    </tr>\n",
       "    <tr>\n",
       "      <th>1954-07-22</th>\n",
       "      <td>0.75</td>\n",
       "    </tr>\n",
       "    <tr>\n",
       "      <th>1954-07-29</th>\n",
       "      <td>0.38</td>\n",
       "    </tr>\n",
       "    <tr>\n",
       "      <th>1954-08-05</th>\n",
       "      <td>1.44</td>\n",
       "    </tr>\n",
       "    <tr>\n",
       "      <th>1954-08-12</th>\n",
       "      <td>1.44</td>\n",
       "    </tr>\n",
       "    <tr>\n",
       "      <th>1954-08-19</th>\n",
       "      <td>1.44</td>\n",
       "    </tr>\n",
       "    <tr>\n",
       "      <th>1954-08-26</th>\n",
       "      <td>1.44</td>\n",
       "    </tr>\n",
       "    <tr>\n",
       "      <th>1954-09-02</th>\n",
       "      <td>1.38</td>\n",
       "    </tr>\n",
       "  </tbody>\n",
       "</table>\n",
       "</div>"
      ],
      "text/plain": [
       "            risk_free_rate\n",
       "DATE                      \n",
       "1954-07-01            1.25\n",
       "1954-07-08            1.25\n",
       "1954-07-15            0.75\n",
       "1954-07-22            0.75\n",
       "1954-07-29            0.38\n",
       "1954-08-05            1.44\n",
       "1954-08-12            1.44\n",
       "1954-08-19            1.44\n",
       "1954-08-26            1.44\n",
       "1954-09-02            1.38"
      ]
     },
     "execution_count": 113,
     "metadata": {},
     "output_type": "execute_result"
    }
   ],
   "source": [
    "ffr.resample(\"7D\").max().head(10)"
   ]
  },
  {
   "cell_type": "markdown",
   "metadata": {},
   "source": [
    "### Merging with dates\n",
    "\n",
    "Let's see what happens when we merge the ffr and vc datasets"
   ]
  },
  {
   "cell_type": "code",
   "execution_count": 114,
   "metadata": {
    "collapsed": false
   },
   "outputs": [
    {
     "name": "stdout",
     "output_type": "stream",
     "text": [
      "Shape:  (22940, 6)\n",
      "dtypes:  {'Seed': dtype('float64'), 'Expansion': dtype('float64'), 'risk_free_rate': dtype('float64'), 'Later Stage': dtype('float64'), 'Total': dtype('float64'), 'Early Stage': dtype('float64')}\n",
      "index dtype:  datetime64[ns]\n"
     ]
    },
    {
     "data": {
      "text/html": [
       "<div>\n",
       "<table border=\"1\" class=\"dataframe\">\n",
       "  <thead>\n",
       "    <tr style=\"text-align: right;\">\n",
       "      <th></th>\n",
       "      <th>risk_free_rate</th>\n",
       "      <th>Seed</th>\n",
       "      <th>Early Stage</th>\n",
       "      <th>Expansion</th>\n",
       "      <th>Later Stage</th>\n",
       "      <th>Total</th>\n",
       "    </tr>\n",
       "    <tr>\n",
       "      <th>DATE</th>\n",
       "      <th></th>\n",
       "      <th></th>\n",
       "      <th></th>\n",
       "      <th></th>\n",
       "      <th></th>\n",
       "      <th></th>\n",
       "    </tr>\n",
       "  </thead>\n",
       "  <tbody>\n",
       "    <tr>\n",
       "      <th>1954-07-01</th>\n",
       "      <td>1.13</td>\n",
       "      <td>NaN</td>\n",
       "      <td>NaN</td>\n",
       "      <td>NaN</td>\n",
       "      <td>NaN</td>\n",
       "      <td>NaN</td>\n",
       "    </tr>\n",
       "    <tr>\n",
       "      <th>1954-07-02</th>\n",
       "      <td>1.25</td>\n",
       "      <td>NaN</td>\n",
       "      <td>NaN</td>\n",
       "      <td>NaN</td>\n",
       "      <td>NaN</td>\n",
       "      <td>NaN</td>\n",
       "    </tr>\n",
       "    <tr>\n",
       "      <th>1954-07-03</th>\n",
       "      <td>1.25</td>\n",
       "      <td>NaN</td>\n",
       "      <td>NaN</td>\n",
       "      <td>NaN</td>\n",
       "      <td>NaN</td>\n",
       "      <td>NaN</td>\n",
       "    </tr>\n",
       "    <tr>\n",
       "      <th>2017-04-18</th>\n",
       "      <td>0.91</td>\n",
       "      <td>NaN</td>\n",
       "      <td>NaN</td>\n",
       "      <td>NaN</td>\n",
       "      <td>NaN</td>\n",
       "      <td>NaN</td>\n",
       "    </tr>\n",
       "    <tr>\n",
       "      <th>2017-04-19</th>\n",
       "      <td>0.91</td>\n",
       "      <td>NaN</td>\n",
       "      <td>NaN</td>\n",
       "      <td>NaN</td>\n",
       "      <td>NaN</td>\n",
       "      <td>NaN</td>\n",
       "    </tr>\n",
       "    <tr>\n",
       "      <th>2017-04-20</th>\n",
       "      <td>0.91</td>\n",
       "      <td>NaN</td>\n",
       "      <td>NaN</td>\n",
       "      <td>NaN</td>\n",
       "      <td>NaN</td>\n",
       "      <td>NaN</td>\n",
       "    </tr>\n",
       "  </tbody>\n",
       "</table>\n",
       "</div>"
      ],
      "text/plain": [
       "            risk_free_rate  Seed  Early Stage  Expansion  Later Stage  Total\n",
       "DATE                                                                        \n",
       "1954-07-01            1.13   NaN          NaN        NaN          NaN    NaN\n",
       "1954-07-02            1.25   NaN          NaN        NaN          NaN    NaN\n",
       "1954-07-03            1.25   NaN          NaN        NaN          NaN    NaN\n",
       "2017-04-18            0.91   NaN          NaN        NaN          NaN    NaN\n",
       "2017-04-19            0.91   NaN          NaN        NaN          NaN    NaN\n",
       "2017-04-20            0.91   NaN          NaN        NaN          NaN    NaN"
      ]
     },
     "execution_count": 114,
     "metadata": {},
     "output_type": "execute_result"
    }
   ],
   "source": [
    "# do a left merge on the index (date info)\n",
    "df = pd.merge(ffr, vc, left_index=True, right_index=True, how=\"left\")\n",
    "df_info(df)"
   ]
  },
  {
   "cell_type": "code",
   "execution_count": 115,
   "metadata": {
    "collapsed": false
   },
   "outputs": [
    {
     "data": {
      "text/html": [
       "<div>\n",
       "<table border=\"1\" class=\"dataframe\">\n",
       "  <thead>\n",
       "    <tr style=\"text-align: right;\">\n",
       "      <th></th>\n",
       "      <th>Seed</th>\n",
       "      <th>Early Stage</th>\n",
       "      <th>Expansion</th>\n",
       "      <th>Later Stage</th>\n",
       "      <th>Total</th>\n",
       "    </tr>\n",
       "    <tr>\n",
       "      <th>Date</th>\n",
       "      <th></th>\n",
       "      <th></th>\n",
       "      <th></th>\n",
       "      <th></th>\n",
       "      <th></th>\n",
       "    </tr>\n",
       "  </thead>\n",
       "  <tbody>\n",
       "    <tr>\n",
       "      <th>1985-03-31</th>\n",
       "      <td>153.0</td>\n",
       "      <td>96.3</td>\n",
       "      <td>219.5</td>\n",
       "      <td>154.4</td>\n",
       "      <td>623.1</td>\n",
       "    </tr>\n",
       "    <tr>\n",
       "      <th>1985-06-30</th>\n",
       "      <td>146.5</td>\n",
       "      <td>185.3</td>\n",
       "      <td>319.6</td>\n",
       "      <td>89.4</td>\n",
       "      <td>740.8</td>\n",
       "    </tr>\n",
       "    <tr>\n",
       "      <th>1985-09-30</th>\n",
       "      <td>93.7</td>\n",
       "      <td>106.3</td>\n",
       "      <td>312.8</td>\n",
       "      <td>164.4</td>\n",
       "      <td>677.2</td>\n",
       "    </tr>\n",
       "    <tr>\n",
       "      <th>1985-12-31</th>\n",
       "      <td>133.0</td>\n",
       "      <td>129.9</td>\n",
       "      <td>393.7</td>\n",
       "      <td>78.5</td>\n",
       "      <td>735.1</td>\n",
       "    </tr>\n",
       "    <tr>\n",
       "      <th>1986-03-31</th>\n",
       "      <td>185.6</td>\n",
       "      <td>129.6</td>\n",
       "      <td>270.0</td>\n",
       "      <td>125.3</td>\n",
       "      <td>710.5</td>\n",
       "    </tr>\n",
       "  </tbody>\n",
       "</table>\n",
       "</div>"
      ],
      "text/plain": [
       "             Seed  Early Stage  Expansion  Later Stage  Total\n",
       "Date                                                         \n",
       "1985-03-31  153.0         96.3      219.5        154.4  623.1\n",
       "1985-06-30  146.5        185.3      319.6         89.4  740.8\n",
       "1985-09-30   93.7        106.3      312.8        164.4  677.2\n",
       "1985-12-31  133.0        129.9      393.7         78.5  735.1\n",
       "1986-03-31  185.6        129.6      270.0        125.3  710.5"
      ]
     },
     "execution_count": 115,
     "metadata": {},
     "output_type": "execute_result"
    }
   ],
   "source": [
    "vc.head()"
   ]
  },
  {
   "cell_type": "markdown",
   "metadata": {},
   "source": [
    "Notice that we ended up with a lot of missing data. This happened for two reasons:\n",
    "\n",
    "1. The ffr data goes back to 1954, but the vc data starts in 1985\n",
    "2. The ffr data is at a daily frequency, but vc is at quarterly.\n",
    "\n",
    "To resolve the first issue we can subset the ffr data and only keep from 1985 on"
   ]
  },
  {
   "cell_type": "code",
   "execution_count": 116,
   "metadata": {
    "collapsed": false
   },
   "outputs": [],
   "source": [
    "ffr_recent = ffr[\"1985\":]"
   ]
  },
  {
   "cell_type": "markdown",
   "metadata": {},
   "source": [
    "To resolve the second issue we will do two-steps:\n",
    "\n",
    "1. resample the `ffr` data to a monthly frequency\n",
    "2. resample the `vc` data to a monthly frequency by _padding_. This is called upsampling because we are going from a lower frequency (quarterly) to a higher one (monthly)"
   ]
  },
  {
   "cell_type": "code",
   "execution_count": 117,
   "metadata": {
    "collapsed": true
   },
   "outputs": [],
   "source": [
    "ffr_recentM = ffr_recent.resample(\"M\").first()\n",
    "vc_M = vc.resample(\"M\").pad()"
   ]
  },
  {
   "cell_type": "code",
   "execution_count": 118,
   "metadata": {
    "collapsed": false
   },
   "outputs": [
    {
     "data": {
      "text/html": [
       "<div>\n",
       "<table border=\"1\" class=\"dataframe\">\n",
       "  <thead>\n",
       "    <tr style=\"text-align: right;\">\n",
       "      <th></th>\n",
       "      <th>Seed</th>\n",
       "      <th>Early Stage</th>\n",
       "      <th>Expansion</th>\n",
       "      <th>Later Stage</th>\n",
       "      <th>Total</th>\n",
       "    </tr>\n",
       "    <tr>\n",
       "      <th>Date</th>\n",
       "      <th></th>\n",
       "      <th></th>\n",
       "      <th></th>\n",
       "      <th></th>\n",
       "      <th></th>\n",
       "    </tr>\n",
       "  </thead>\n",
       "  <tbody>\n",
       "    <tr>\n",
       "      <th>1985-03-31</th>\n",
       "      <td>153.0</td>\n",
       "      <td>96.3</td>\n",
       "      <td>219.5</td>\n",
       "      <td>154.4</td>\n",
       "      <td>623.1</td>\n",
       "    </tr>\n",
       "    <tr>\n",
       "      <th>1985-04-30</th>\n",
       "      <td>153.0</td>\n",
       "      <td>96.3</td>\n",
       "      <td>219.5</td>\n",
       "      <td>154.4</td>\n",
       "      <td>623.1</td>\n",
       "    </tr>\n",
       "    <tr>\n",
       "      <th>1985-05-31</th>\n",
       "      <td>153.0</td>\n",
       "      <td>96.3</td>\n",
       "      <td>219.5</td>\n",
       "      <td>154.4</td>\n",
       "      <td>623.1</td>\n",
       "    </tr>\n",
       "    <tr>\n",
       "      <th>1985-06-30</th>\n",
       "      <td>146.5</td>\n",
       "      <td>185.3</td>\n",
       "      <td>319.6</td>\n",
       "      <td>89.4</td>\n",
       "      <td>740.8</td>\n",
       "    </tr>\n",
       "    <tr>\n",
       "      <th>1985-07-31</th>\n",
       "      <td>146.5</td>\n",
       "      <td>185.3</td>\n",
       "      <td>319.6</td>\n",
       "      <td>89.4</td>\n",
       "      <td>740.8</td>\n",
       "    </tr>\n",
       "  </tbody>\n",
       "</table>\n",
       "</div>"
      ],
      "text/plain": [
       "             Seed  Early Stage  Expansion  Later Stage  Total\n",
       "Date                                                         \n",
       "1985-03-31  153.0         96.3      219.5        154.4  623.1\n",
       "1985-04-30  153.0         96.3      219.5        154.4  623.1\n",
       "1985-05-31  153.0         96.3      219.5        154.4  623.1\n",
       "1985-06-30  146.5        185.3      319.6         89.4  740.8\n",
       "1985-07-31  146.5        185.3      319.6         89.4  740.8"
      ]
     },
     "execution_count": 118,
     "metadata": {},
     "output_type": "execute_result"
    }
   ],
   "source": [
    "vc_M.head()"
   ]
  },
  {
   "cell_type": "markdown",
   "metadata": {},
   "source": [
    "Notice that using `pad` here just copied data forwards to fill in missing months (e.g. the data for March 1985 was applied to April and May)"
   ]
  },
  {
   "cell_type": "markdown",
   "metadata": {},
   "source": [
    "Now let's try that merge again"
   ]
  },
  {
   "cell_type": "code",
   "execution_count": 119,
   "metadata": {
    "collapsed": false
   },
   "outputs": [
    {
     "name": "stdout",
     "output_type": "stream",
     "text": [
      "            risk_free_rate   Seed  Early Stage  Expansion  Later Stage  Total\n",
      "DATE                                                                         \n",
      "1985-01-31            8.74    NaN          NaN        NaN          NaN    NaN\n",
      "1985-02-28            8.74    NaN          NaN        NaN          NaN    NaN\n",
      "1985-03-31            8.74  153.0         96.3      219.5        154.4  623.1\n",
      "1985-04-30            8.83  153.0         96.3      219.5        154.4  623.1\n",
      "1985-05-31            8.83  153.0         96.3      219.5        154.4  623.1\n",
      "1985-06-30            7.64  146.5        185.3      319.6         89.4  740.8\n",
      "\n",
      "\n",
      "             risk_free_rate  Seed  Early Stage  Expansion  Later Stage  Total\n",
      "DATE                                                                        \n",
      "2016-09-30            0.40   NaN          NaN        NaN          NaN    NaN\n",
      "2016-10-31            0.29   NaN          NaN        NaN          NaN    NaN\n",
      "2016-11-30            0.41   NaN          NaN        NaN          NaN    NaN\n",
      "2016-12-31            0.41   NaN          NaN        NaN          NaN    NaN\n",
      "2017-01-31            0.55   NaN          NaN        NaN          NaN    NaN\n",
      "2017-02-28            0.66   NaN          NaN        NaN          NaN    NaN\n",
      "2017-03-31            0.66   NaN          NaN        NaN          NaN    NaN\n",
      "2017-04-30            0.82   NaN          NaN        NaN          NaN    NaN\n"
     ]
    }
   ],
   "source": [
    "df = pd.merge(ffr_recentM, vc_M, left_index=True, right_index=True, how=\"left\")\n",
    "print(df.head(6))\n",
    "print(\"\\n\\n\", df.tail(8))"
   ]
  },
  {
   "cell_type": "markdown",
   "metadata": {},
   "source": [
    "That looks much better -- we have missing data at the top and the bottom for months that aren't available in the venture capital dataset, but nothing else should be missing."
   ]
  },
  {
   "cell_type": "markdown",
   "metadata": {},
   "source": [
    "Let's try to do something interesting with this data. We **want** to plot the growth rate in the risk free rate, early stage vc funding, and total vc funding for the months following the start of the dotcom boom (rougly Jan 1995) and the housing boom (roughly Jan 2004). \n",
    "\n",
    "Read that again carefully. \n",
    "\n",
    "For each of the three series we want 2 lines. For each line, the x axis will be quarters since start of boom. The y axis growth rates since first month of bubble."
   ]
  },
  {
   "cell_type": "code",
   "execution_count": 120,
   "metadata": {
    "collapsed": true
   },
   "outputs": [],
   "source": [
    "# subset the data, then remove datetime index as we don't need it again\n",
    "post_dotcom = df[\"1995\":].reset_index(drop=True)\n",
    "post_housing = df[\"2004\":].reset_index(drop=True)\n",
    "\n",
    "# take logs so we can do growth rates as log(x_{t+N}) - log(x_t)\n",
    "post_dotcom = np.log(post_dotcom)\n",
    "post_housing = np.log(post_housing)\n",
    "\n",
    "dotcom_growth = post_dotcom - post_dotcom.iloc[0, :]\n",
    "housing_growth = post_housing - post_housing.iloc[0, :]"
   ]
  },
  {
   "cell_type": "code",
   "execution_count": 121,
   "metadata": {
    "collapsed": false
   },
   "outputs": [
    {
     "data": {
      "image/png": "[encoded data removed]",
      "text/plain": [
       "<matplotlib.figure.Figure at 0x7fc9e2caa2e8>"
      ]
     },
     "metadata": {},
     "output_type": "display_data"
    }
   ],
   "source": [
    "fig, axs = plt.subplots(3, 1, figsize=(10, 5))\n",
    "\n",
    "variables = [\"risk_free_rate\", \"Early Stage\", \"Total\"]\n",
    "\n",
    "for i in range(len(variables)):\n",
    "    var = variables[i]\n",
    "    \n",
    "    # add dotcom line\n",
    "    dotcom_growth[var].plot(ax=axs[i])\n",
    "    \n",
    "    # add housing line\n",
    "    housing_growth[var].plot(ax=axs[i])\n",
    "    \n",
    "    # set title\n",
    "    axs[i].set_title(var)\n",
    "\n",
    "# set legend and xlabel on last plot only\n",
    "axs[-1].legend([\"dotcom\", \"housing\"])\n",
    "axs[-1].set_xlabel(\"Quarters since boom\")\n",
    "        \n",
    "# make subplots not overlap\n",
    "fig.tight_layout()"
   ]
  },
  {
   "cell_type": "markdown",
   "metadata": {},
   "source": [
    "So we see that these booms were qualitatively different in terms of the response of the risk free rate and venture capital funding."
   ]
  },
  {
   "cell_type": "code",
   "execution_count": null,
   "metadata": {
    "collapsed": true
   },
   "outputs": [],
   "source": []
  }
 ],
 "metadata": {
  "anaconda-cloud": {},
  "kernelspec": {
   "display_name": "Python [conda root]",
   "language": "python",
   "name": "conda-root-py"
  },
  "language_info": {
   "codemirror_mode": {
    "name": "ipython",
    "version": 3
   },
   "file_extension": ".py",
   "mimetype": "text/x-python",
   "name": "python",
   "nbconvert_exporter": "python",
   "pygments_lexer": "ipython3",
   "version": "3.5.2"
  }
 },
 "nbformat": 4,
 "nbformat_minor": 1
}
